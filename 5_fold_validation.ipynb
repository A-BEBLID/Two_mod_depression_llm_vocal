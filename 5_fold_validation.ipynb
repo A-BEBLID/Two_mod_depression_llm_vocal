{
 "cells": [
  {
   "cell_type": "code",
   "execution_count": 8,
   "id": "b9c06242-2ea4-4030-8505-f604a8853532",
   "metadata": {},
   "outputs": [
    {
     "name": "stdout",
     "output_type": "stream",
     "text": [
      "Upsampled shape: (23658, 768)\n",
      "Non-upsampled shape: (23658, 768)\n",
      "First 5 entries equal (within tolerance): False\n"
     ]
    }
   ],
   "source": [
    "import numpy as np\n",
    "\n",
    "# Define paths\n",
    "base_path_no = \"C:/Users/Administrator/PycharmProjects/Comprehensive/04sec_edaic/04sec_no_upsampling/Data_edaic\"\n",
    "base_path_over = \"C:/Users/Administrator/PycharmProjects/Comprehensive/04sec_edaic/Data_edaic\"\n",
    "\n",
    "# Load Text embeddings\n",
    "non_upsampled_embeddings = np.load(f\"{base_path_no}/bert_embeddings_04sec_no_upsampled.npy\")\n",
    "upsampled_embeddings = np.load(f\"{base_path_over}/bert_embeddings_04sec.npy\")\n",
    "\n",
    "# Check shapes\n",
    "upsampled_shape = upsampled_embeddings.shape\n",
    "non_upsampled_shape = non_upsampled_embeddings.shape\n",
    "\n",
    "# Compare first 5 rows\n",
    "sample_comparison = np.allclose(\n",
    "    upsampled_embeddings[:5], non_upsampled_embeddings[:5], atol=1e-6\n",
    ")\n",
    "\n",
    "# Output the results\n",
    "print(\"Upsampled shape:\", upsampled_shape)\n",
    "print(\"Non-upsampled shape:\", non_upsampled_shape)\n",
    "print(\"First 5 entries equal (within tolerance):\", sample_comparison)\n"
   ]
  },
  {
   "cell_type": "code",
   "execution_count": 30,
   "id": "46a2c8e5-c6e8-4b30-9ac8-6cc158e1d871",
   "metadata": {},
   "outputs": [
    {
     "name": "stdout",
     "output_type": "stream",
     "text": [
      "Modality Embedding Paths:\n",
      "\n",
      "Text:\n",
      " - No Upsampling   : C:/Users/Administrator/PycharmProjects/Comprehensive/04sec_edaic/04sec_no_upsampling/Data_edaic\\bert_embeddings_04sec_no_upsampled.npy\n",
      " - With Upsampling : C:/Users/Administrator/PycharmProjects/Comprehensive/04sec_edaic/Data_edaic\\bert_embeddings_04sec.npy\n",
      "\n",
      "Audio:\n",
      " - No Upsampling   : C:/Users/Administrator/PycharmProjects/Comprehensive/04sec_edaic/04sec_no_upsampling/Data_edaic\\acoustic_scaled_56_04sec.npy\n",
      " - With Upsampling : C:/Users/Administrator/PycharmProjects/Comprehensive/04sec_edaic/Data_edaic\\acoustic_scaled_56_04sec.npy\n",
      "\n",
      "Text+Audio:\n",
      " - No Upsampling   : C:/Users/Administrator/PycharmProjects/Comprehensive/04sec_edaic/04sec_no_upsampling/Data_edaic\\combined_embeddings_04sec_no_upsampled.npy\n",
      " - With Upsampling : C:/Users/Administrator/PycharmProjects/Comprehensive/04sec_edaic/Data_edaic\\combined_embeddings_04sec.npy\n",
      "\n",
      "Label Paths:\n",
      " - No Upsampling   : C:/Users/Administrator/PycharmProjects/Comprehensive/04sec_edaic/04sec_no_upsampling/Data_edaic\\labels_04sec_no_upsampled.npy\n",
      " - With Upsampling : C:/Users/Administrator/PycharmProjects/Comprehensive/04sec_edaic/Data_edaic\\labels_04sec.npy\n"
     ]
    }
   ],
   "source": [
    "import os\n",
    "\n",
    "base_path_no = \"C:/Users/Administrator/PycharmProjects/Comprehensive/04sec_edaic/04sec_no_upsampling/Data_edaic\"\n",
    "base_path_over = \"C:/Users/Administrator/PycharmProjects/Comprehensive/04sec_edaic/Data_edaic\"\n",
    "\n",
    "# Define files\n",
    "modality_paths = {\n",
    "    \"Text\": (\"bert_embeddings_04sec_no_upsampled.npy\", \"bert_embeddings_04sec.npy\"),\n",
    "    \"Audio\": (\"acoustic_scaled_56_04sec.npy\", \"acoustic_scaled_56_04sec.npy\"),\n",
    "    \"Text+Audio\": (\"combined_embeddings_04sec_no_upsampled.npy\", \"combined_embeddings_04sec.npy\"),\n",
    "}\n",
    "label_paths = (\"labels_04sec_no_upsampled.npy\", \"labels_04sec.npy\")\n",
    "\n",
    "# Print modality combinations\n",
    "print(\"Modality Embedding Paths:\")\n",
    "for modality, (no_file, over_file) in modality_paths.items():\n",
    "    no_path = os.path.join(base_path_no, no_file)\n",
    "    over_path = os.path.join(base_path_over, over_file)\n",
    "    print(f\"\\n{modality}:\")\n",
    "    print(f\" - No Upsampling   : {no_path}\")\n",
    "    print(f\" - With Upsampling : {over_path}\")\n",
    "\n",
    "# Print label paths\n",
    "print(\"\\nLabel Paths:\")\n",
    "print(f\" - No Upsampling   : {os.path.join(base_path_no, label_paths[0])}\")\n",
    "print(f\" - With Upsampling : {os.path.join(base_path_over, label_paths[1])}\")\n"
   ]
  },
  {
   "cell_type": "code",
   "execution_count": 80,
   "id": "d2039aa8-fd9f-4b67-b0dd-aaf4d4e6bd0d",
   "metadata": {},
   "outputs": [
    {
     "name": "stderr",
     "output_type": "stream",
     "text": [
      "C:\\Users\\Administrator\\.conda\\envs\\p311\\Lib\\site-packages\\keras\\src\\layers\\core\\dense.py:87: UserWarning: Do not pass an `input_shape`/`input_dim` argument to a layer. When using Sequential models, prefer using an `Input(shape)` object as the first layer in the model instead.\n",
      "  super().__init__(activity_regularizer=activity_regularizer, **kwargs)\n"
     ]
    },
    {
     "name": "stdout",
     "output_type": "stream",
     "text": [
      "\u001b[1m148/148\u001b[0m \u001b[32m━━━━━━━━━━━━━━━━━━━━\u001b[0m\u001b[37m\u001b[0m \u001b[1m0s\u001b[0m 2ms/step\n"
     ]
    },
    {
     "name": "stderr",
     "output_type": "stream",
     "text": [
      "C:\\Users\\Administrator\\.conda\\envs\\p311\\Lib\\site-packages\\keras\\src\\layers\\core\\dense.py:87: UserWarning: Do not pass an `input_shape`/`input_dim` argument to a layer. When using Sequential models, prefer using an `Input(shape)` object as the first layer in the model instead.\n",
      "  super().__init__(activity_regularizer=activity_regularizer, **kwargs)\n"
     ]
    },
    {
     "name": "stdout",
     "output_type": "stream",
     "text": [
      "\u001b[1m148/148\u001b[0m \u001b[32m━━━━━━━━━━━━━━━━━━━━\u001b[0m\u001b[37m\u001b[0m \u001b[1m0s\u001b[0m 1ms/step\n"
     ]
    },
    {
     "name": "stderr",
     "output_type": "stream",
     "text": [
      "C:\\Users\\Administrator\\.conda\\envs\\p311\\Lib\\site-packages\\keras\\src\\layers\\core\\dense.py:87: UserWarning: Do not pass an `input_shape`/`input_dim` argument to a layer. When using Sequential models, prefer using an `Input(shape)` object as the first layer in the model instead.\n",
      "  super().__init__(activity_regularizer=activity_regularizer, **kwargs)\n"
     ]
    },
    {
     "name": "stdout",
     "output_type": "stream",
     "text": [
      "\u001b[1m148/148\u001b[0m \u001b[32m━━━━━━━━━━━━━━━━━━━━\u001b[0m\u001b[37m\u001b[0m \u001b[1m0s\u001b[0m 2ms/step\n"
     ]
    },
    {
     "name": "stderr",
     "output_type": "stream",
     "text": [
      "C:\\Users\\Administrator\\.conda\\envs\\p311\\Lib\\site-packages\\keras\\src\\layers\\core\\dense.py:87: UserWarning: Do not pass an `input_shape`/`input_dim` argument to a layer. When using Sequential models, prefer using an `Input(shape)` object as the first layer in the model instead.\n",
      "  super().__init__(activity_regularizer=activity_regularizer, **kwargs)\n"
     ]
    },
    {
     "name": "stdout",
     "output_type": "stream",
     "text": [
      "\u001b[1m148/148\u001b[0m \u001b[32m━━━━━━━━━━━━━━━━━━━━\u001b[0m\u001b[37m\u001b[0m \u001b[1m0s\u001b[0m 2ms/step\n"
     ]
    },
    {
     "name": "stderr",
     "output_type": "stream",
     "text": [
      "C:\\Users\\Administrator\\.conda\\envs\\p311\\Lib\\site-packages\\keras\\src\\layers\\core\\dense.py:87: UserWarning: Do not pass an `input_shape`/`input_dim` argument to a layer. When using Sequential models, prefer using an `Input(shape)` object as the first layer in the model instead.\n",
      "  super().__init__(activity_regularizer=activity_regularizer, **kwargs)\n"
     ]
    },
    {
     "name": "stdout",
     "output_type": "stream",
     "text": [
      "\u001b[1m148/148\u001b[0m \u001b[32m━━━━━━━━━━━━━━━━━━━━\u001b[0m\u001b[37m\u001b[0m \u001b[1m0s\u001b[0m 2ms/step\n"
     ]
    },
    {
     "name": "stderr",
     "output_type": "stream",
     "text": [
      "C:\\Users\\Administrator\\.conda\\envs\\p311\\Lib\\site-packages\\keras\\src\\layers\\core\\dense.py:87: UserWarning: Do not pass an `input_shape`/`input_dim` argument to a layer. When using Sequential models, prefer using an `Input(shape)` object as the first layer in the model instead.\n",
      "  super().__init__(activity_regularizer=activity_regularizer, **kwargs)\n"
     ]
    },
    {
     "name": "stdout",
     "output_type": "stream",
     "text": [
      "\u001b[1m148/148\u001b[0m \u001b[32m━━━━━━━━━━━━━━━━━━━━\u001b[0m\u001b[37m\u001b[0m \u001b[1m0s\u001b[0m 2ms/step\n"
     ]
    },
    {
     "name": "stderr",
     "output_type": "stream",
     "text": [
      "C:\\Users\\Administrator\\.conda\\envs\\p311\\Lib\\site-packages\\keras\\src\\layers\\core\\dense.py:87: UserWarning: Do not pass an `input_shape`/`input_dim` argument to a layer. When using Sequential models, prefer using an `Input(shape)` object as the first layer in the model instead.\n",
      "  super().__init__(activity_regularizer=activity_regularizer, **kwargs)\n"
     ]
    },
    {
     "name": "stdout",
     "output_type": "stream",
     "text": [
      "\u001b[1m148/148\u001b[0m \u001b[32m━━━━━━━━━━━━━━━━━━━━\u001b[0m\u001b[37m\u001b[0m \u001b[1m0s\u001b[0m 2ms/step\n"
     ]
    },
    {
     "name": "stderr",
     "output_type": "stream",
     "text": [
      "C:\\Users\\Administrator\\.conda\\envs\\p311\\Lib\\site-packages\\keras\\src\\layers\\core\\dense.py:87: UserWarning: Do not pass an `input_shape`/`input_dim` argument to a layer. When using Sequential models, prefer using an `Input(shape)` object as the first layer in the model instead.\n",
      "  super().__init__(activity_regularizer=activity_regularizer, **kwargs)\n"
     ]
    },
    {
     "name": "stdout",
     "output_type": "stream",
     "text": [
      "\u001b[1m148/148\u001b[0m \u001b[32m━━━━━━━━━━━━━━━━━━━━\u001b[0m\u001b[37m\u001b[0m \u001b[1m0s\u001b[0m 2ms/step\n"
     ]
    },
    {
     "name": "stderr",
     "output_type": "stream",
     "text": [
      "C:\\Users\\Administrator\\.conda\\envs\\p311\\Lib\\site-packages\\keras\\src\\layers\\core\\dense.py:87: UserWarning: Do not pass an `input_shape`/`input_dim` argument to a layer. When using Sequential models, prefer using an `Input(shape)` object as the first layer in the model instead.\n",
      "  super().__init__(activity_regularizer=activity_regularizer, **kwargs)\n"
     ]
    },
    {
     "name": "stdout",
     "output_type": "stream",
     "text": [
      "\u001b[1m148/148\u001b[0m \u001b[32m━━━━━━━━━━━━━━━━━━━━\u001b[0m\u001b[37m\u001b[0m \u001b[1m0s\u001b[0m 1ms/step\n"
     ]
    },
    {
     "name": "stderr",
     "output_type": "stream",
     "text": [
      "C:\\Users\\Administrator\\.conda\\envs\\p311\\Lib\\site-packages\\keras\\src\\layers\\core\\dense.py:87: UserWarning: Do not pass an `input_shape`/`input_dim` argument to a layer. When using Sequential models, prefer using an `Input(shape)` object as the first layer in the model instead.\n",
      "  super().__init__(activity_regularizer=activity_regularizer, **kwargs)\n"
     ]
    },
    {
     "name": "stdout",
     "output_type": "stream",
     "text": [
      "\u001b[1m148/148\u001b[0m \u001b[32m━━━━━━━━━━━━━━━━━━━━\u001b[0m\u001b[37m\u001b[0m \u001b[1m0s\u001b[0m 2ms/step\n"
     ]
    },
    {
     "name": "stderr",
     "output_type": "stream",
     "text": [
      "C:\\Users\\Administrator\\.conda\\envs\\p311\\Lib\\site-packages\\keras\\src\\layers\\core\\dense.py:87: UserWarning: Do not pass an `input_shape`/`input_dim` argument to a layer. When using Sequential models, prefer using an `Input(shape)` object as the first layer in the model instead.\n",
      "  super().__init__(activity_regularizer=activity_regularizer, **kwargs)\n"
     ]
    },
    {
     "name": "stdout",
     "output_type": "stream",
     "text": [
      "\u001b[1m148/148\u001b[0m \u001b[32m━━━━━━━━━━━━━━━━━━━━\u001b[0m\u001b[37m\u001b[0m \u001b[1m0s\u001b[0m 2ms/step\n"
     ]
    },
    {
     "name": "stderr",
     "output_type": "stream",
     "text": [
      "C:\\Users\\Administrator\\.conda\\envs\\p311\\Lib\\site-packages\\keras\\src\\layers\\core\\dense.py:87: UserWarning: Do not pass an `input_shape`/`input_dim` argument to a layer. When using Sequential models, prefer using an `Input(shape)` object as the first layer in the model instead.\n",
      "  super().__init__(activity_regularizer=activity_regularizer, **kwargs)\n"
     ]
    },
    {
     "name": "stdout",
     "output_type": "stream",
     "text": [
      "\u001b[1m148/148\u001b[0m \u001b[32m━━━━━━━━━━━━━━━━━━━━\u001b[0m\u001b[37m\u001b[0m \u001b[1m0s\u001b[0m 1ms/step\n"
     ]
    },
    {
     "name": "stderr",
     "output_type": "stream",
     "text": [
      "C:\\Users\\Administrator\\.conda\\envs\\p311\\Lib\\site-packages\\keras\\src\\layers\\core\\dense.py:87: UserWarning: Do not pass an `input_shape`/`input_dim` argument to a layer. When using Sequential models, prefer using an `Input(shape)` object as the first layer in the model instead.\n",
      "  super().__init__(activity_regularizer=activity_regularizer, **kwargs)\n"
     ]
    },
    {
     "name": "stdout",
     "output_type": "stream",
     "text": [
      "\u001b[1m148/148\u001b[0m \u001b[32m━━━━━━━━━━━━━━━━━━━━\u001b[0m\u001b[37m\u001b[0m \u001b[1m0s\u001b[0m 1ms/step\n"
     ]
    },
    {
     "name": "stderr",
     "output_type": "stream",
     "text": [
      "C:\\Users\\Administrator\\.conda\\envs\\p311\\Lib\\site-packages\\keras\\src\\layers\\core\\dense.py:87: UserWarning: Do not pass an `input_shape`/`input_dim` argument to a layer. When using Sequential models, prefer using an `Input(shape)` object as the first layer in the model instead.\n",
      "  super().__init__(activity_regularizer=activity_regularizer, **kwargs)\n"
     ]
    },
    {
     "name": "stdout",
     "output_type": "stream",
     "text": [
      "\u001b[1m148/148\u001b[0m \u001b[32m━━━━━━━━━━━━━━━━━━━━\u001b[0m\u001b[37m\u001b[0m \u001b[1m0s\u001b[0m 1ms/step\n"
     ]
    },
    {
     "name": "stderr",
     "output_type": "stream",
     "text": [
      "C:\\Users\\Administrator\\.conda\\envs\\p311\\Lib\\site-packages\\keras\\src\\layers\\core\\dense.py:87: UserWarning: Do not pass an `input_shape`/`input_dim` argument to a layer. When using Sequential models, prefer using an `Input(shape)` object as the first layer in the model instead.\n",
      "  super().__init__(activity_regularizer=activity_regularizer, **kwargs)\n"
     ]
    },
    {
     "name": "stdout",
     "output_type": "stream",
     "text": [
      "\u001b[1m148/148\u001b[0m \u001b[32m━━━━━━━━━━━━━━━━━━━━\u001b[0m\u001b[37m\u001b[0m \u001b[1m0s\u001b[0m 1ms/step\n"
     ]
    },
    {
     "name": "stderr",
     "output_type": "stream",
     "text": [
      "C:\\Users\\Administrator\\.conda\\envs\\p311\\Lib\\site-packages\\keras\\src\\layers\\core\\dense.py:87: UserWarning: Do not pass an `input_shape`/`input_dim` argument to a layer. When using Sequential models, prefer using an `Input(shape)` object as the first layer in the model instead.\n",
      "  super().__init__(activity_regularizer=activity_regularizer, **kwargs)\n"
     ]
    },
    {
     "name": "stdout",
     "output_type": "stream",
     "text": [
      "\u001b[1m148/148\u001b[0m \u001b[32m━━━━━━━━━━━━━━━━━━━━\u001b[0m\u001b[37m\u001b[0m \u001b[1m0s\u001b[0m 1ms/step\n"
     ]
    },
    {
     "name": "stderr",
     "output_type": "stream",
     "text": [
      "C:\\Users\\Administrator\\.conda\\envs\\p311\\Lib\\site-packages\\keras\\src\\layers\\core\\dense.py:87: UserWarning: Do not pass an `input_shape`/`input_dim` argument to a layer. When using Sequential models, prefer using an `Input(shape)` object as the first layer in the model instead.\n",
      "  super().__init__(activity_regularizer=activity_regularizer, **kwargs)\n"
     ]
    },
    {
     "name": "stdout",
     "output_type": "stream",
     "text": [
      "\u001b[1m148/148\u001b[0m \u001b[32m━━━━━━━━━━━━━━━━━━━━\u001b[0m\u001b[37m\u001b[0m \u001b[1m0s\u001b[0m 1ms/step\n"
     ]
    },
    {
     "name": "stderr",
     "output_type": "stream",
     "text": [
      "C:\\Users\\Administrator\\.conda\\envs\\p311\\Lib\\site-packages\\keras\\src\\layers\\core\\dense.py:87: UserWarning: Do not pass an `input_shape`/`input_dim` argument to a layer. When using Sequential models, prefer using an `Input(shape)` object as the first layer in the model instead.\n",
      "  super().__init__(activity_regularizer=activity_regularizer, **kwargs)\n"
     ]
    },
    {
     "name": "stdout",
     "output_type": "stream",
     "text": [
      "\u001b[1m148/148\u001b[0m \u001b[32m━━━━━━━━━━━━━━━━━━━━\u001b[0m\u001b[37m\u001b[0m \u001b[1m0s\u001b[0m 1ms/step\n"
     ]
    },
    {
     "name": "stderr",
     "output_type": "stream",
     "text": [
      "C:\\Users\\Administrator\\.conda\\envs\\p311\\Lib\\site-packages\\keras\\src\\layers\\core\\dense.py:87: UserWarning: Do not pass an `input_shape`/`input_dim` argument to a layer. When using Sequential models, prefer using an `Input(shape)` object as the first layer in the model instead.\n",
      "  super().__init__(activity_regularizer=activity_regularizer, **kwargs)\n"
     ]
    },
    {
     "name": "stdout",
     "output_type": "stream",
     "text": [
      "\u001b[1m148/148\u001b[0m \u001b[32m━━━━━━━━━━━━━━━━━━━━\u001b[0m\u001b[37m\u001b[0m \u001b[1m0s\u001b[0m 1ms/step\n"
     ]
    },
    {
     "name": "stderr",
     "output_type": "stream",
     "text": [
      "C:\\Users\\Administrator\\.conda\\envs\\p311\\Lib\\site-packages\\keras\\src\\layers\\core\\dense.py:87: UserWarning: Do not pass an `input_shape`/`input_dim` argument to a layer. When using Sequential models, prefer using an `Input(shape)` object as the first layer in the model instead.\n",
      "  super().__init__(activity_regularizer=activity_regularizer, **kwargs)\n"
     ]
    },
    {
     "name": "stdout",
     "output_type": "stream",
     "text": [
      "\u001b[1m148/148\u001b[0m \u001b[32m━━━━━━━━━━━━━━━━━━━━\u001b[0m\u001b[37m\u001b[0m \u001b[1m0s\u001b[0m 1ms/step\n"
     ]
    },
    {
     "name": "stderr",
     "output_type": "stream",
     "text": [
      "C:\\Users\\Administrator\\.conda\\envs\\p311\\Lib\\site-packages\\keras\\src\\layers\\core\\dense.py:87: UserWarning: Do not pass an `input_shape`/`input_dim` argument to a layer. When using Sequential models, prefer using an `Input(shape)` object as the first layer in the model instead.\n",
      "  super().__init__(activity_regularizer=activity_regularizer, **kwargs)\n"
     ]
    },
    {
     "name": "stdout",
     "output_type": "stream",
     "text": [
      "\u001b[1m148/148\u001b[0m \u001b[32m━━━━━━━━━━━━━━━━━━━━\u001b[0m\u001b[37m\u001b[0m \u001b[1m0s\u001b[0m 1ms/step\n"
     ]
    },
    {
     "name": "stderr",
     "output_type": "stream",
     "text": [
      "C:\\Users\\Administrator\\.conda\\envs\\p311\\Lib\\site-packages\\keras\\src\\layers\\core\\dense.py:87: UserWarning: Do not pass an `input_shape`/`input_dim` argument to a layer. When using Sequential models, prefer using an `Input(shape)` object as the first layer in the model instead.\n",
      "  super().__init__(activity_regularizer=activity_regularizer, **kwargs)\n"
     ]
    },
    {
     "name": "stdout",
     "output_type": "stream",
     "text": [
      "\u001b[1m148/148\u001b[0m \u001b[32m━━━━━━━━━━━━━━━━━━━━\u001b[0m\u001b[37m\u001b[0m \u001b[1m0s\u001b[0m 1ms/step\n"
     ]
    },
    {
     "name": "stderr",
     "output_type": "stream",
     "text": [
      "C:\\Users\\Administrator\\.conda\\envs\\p311\\Lib\\site-packages\\keras\\src\\layers\\core\\dense.py:87: UserWarning: Do not pass an `input_shape`/`input_dim` argument to a layer. When using Sequential models, prefer using an `Input(shape)` object as the first layer in the model instead.\n",
      "  super().__init__(activity_regularizer=activity_regularizer, **kwargs)\n"
     ]
    },
    {
     "name": "stdout",
     "output_type": "stream",
     "text": [
      "\u001b[1m148/148\u001b[0m \u001b[32m━━━━━━━━━━━━━━━━━━━━\u001b[0m\u001b[37m\u001b[0m \u001b[1m0s\u001b[0m 2ms/step\n"
     ]
    },
    {
     "name": "stderr",
     "output_type": "stream",
     "text": [
      "C:\\Users\\Administrator\\.conda\\envs\\p311\\Lib\\site-packages\\keras\\src\\layers\\core\\dense.py:87: UserWarning: Do not pass an `input_shape`/`input_dim` argument to a layer. When using Sequential models, prefer using an `Input(shape)` object as the first layer in the model instead.\n",
      "  super().__init__(activity_regularizer=activity_regularizer, **kwargs)\n"
     ]
    },
    {
     "name": "stdout",
     "output_type": "stream",
     "text": [
      "\u001b[1m148/148\u001b[0m \u001b[32m━━━━━━━━━━━━━━━━━━━━\u001b[0m\u001b[37m\u001b[0m \u001b[1m0s\u001b[0m 2ms/step\n"
     ]
    },
    {
     "name": "stderr",
     "output_type": "stream",
     "text": [
      "C:\\Users\\Administrator\\.conda\\envs\\p311\\Lib\\site-packages\\keras\\src\\layers\\core\\dense.py:87: UserWarning: Do not pass an `input_shape`/`input_dim` argument to a layer. When using Sequential models, prefer using an `Input(shape)` object as the first layer in the model instead.\n",
      "  super().__init__(activity_regularizer=activity_regularizer, **kwargs)\n"
     ]
    },
    {
     "name": "stdout",
     "output_type": "stream",
     "text": [
      "\u001b[1m148/148\u001b[0m \u001b[32m━━━━━━━━━━━━━━━━━━━━\u001b[0m\u001b[37m\u001b[0m \u001b[1m0s\u001b[0m 2ms/step\n"
     ]
    },
    {
     "name": "stderr",
     "output_type": "stream",
     "text": [
      "C:\\Users\\Administrator\\.conda\\envs\\p311\\Lib\\site-packages\\keras\\src\\layers\\core\\dense.py:87: UserWarning: Do not pass an `input_shape`/`input_dim` argument to a layer. When using Sequential models, prefer using an `Input(shape)` object as the first layer in the model instead.\n",
      "  super().__init__(activity_regularizer=activity_regularizer, **kwargs)\n"
     ]
    },
    {
     "name": "stdout",
     "output_type": "stream",
     "text": [
      "\u001b[1m148/148\u001b[0m \u001b[32m━━━━━━━━━━━━━━━━━━━━\u001b[0m\u001b[37m\u001b[0m \u001b[1m0s\u001b[0m 2ms/step\n"
     ]
    },
    {
     "name": "stderr",
     "output_type": "stream",
     "text": [
      "C:\\Users\\Administrator\\.conda\\envs\\p311\\Lib\\site-packages\\keras\\src\\layers\\core\\dense.py:87: UserWarning: Do not pass an `input_shape`/`input_dim` argument to a layer. When using Sequential models, prefer using an `Input(shape)` object as the first layer in the model instead.\n",
      "  super().__init__(activity_regularizer=activity_regularizer, **kwargs)\n"
     ]
    },
    {
     "name": "stdout",
     "output_type": "stream",
     "text": [
      "\u001b[1m148/148\u001b[0m \u001b[32m━━━━━━━━━━━━━━━━━━━━\u001b[0m\u001b[37m\u001b[0m \u001b[1m0s\u001b[0m 2ms/step\n"
     ]
    },
    {
     "name": "stderr",
     "output_type": "stream",
     "text": [
      "C:\\Users\\Administrator\\.conda\\envs\\p311\\Lib\\site-packages\\keras\\src\\layers\\core\\dense.py:87: UserWarning: Do not pass an `input_shape`/`input_dim` argument to a layer. When using Sequential models, prefer using an `Input(shape)` object as the first layer in the model instead.\n",
      "  super().__init__(activity_regularizer=activity_regularizer, **kwargs)\n"
     ]
    },
    {
     "name": "stdout",
     "output_type": "stream",
     "text": [
      "\u001b[1m148/148\u001b[0m \u001b[32m━━━━━━━━━━━━━━━━━━━━\u001b[0m\u001b[37m\u001b[0m \u001b[1m0s\u001b[0m 2ms/step\n"
     ]
    },
    {
     "name": "stderr",
     "output_type": "stream",
     "text": [
      "C:\\Users\\Administrator\\.conda\\envs\\p311\\Lib\\site-packages\\keras\\src\\layers\\core\\dense.py:87: UserWarning: Do not pass an `input_shape`/`input_dim` argument to a layer. When using Sequential models, prefer using an `Input(shape)` object as the first layer in the model instead.\n",
      "  super().__init__(activity_regularizer=activity_regularizer, **kwargs)\n"
     ]
    },
    {
     "name": "stdout",
     "output_type": "stream",
     "text": [
      "\u001b[1m148/148\u001b[0m \u001b[32m━━━━━━━━━━━━━━━━━━━━\u001b[0m\u001b[37m\u001b[0m \u001b[1m0s\u001b[0m 2ms/step\n"
     ]
    },
    {
     "name": "stderr",
     "output_type": "stream",
     "text": [
      "C:\\Users\\Administrator\\.conda\\envs\\p311\\Lib\\site-packages\\keras\\src\\layers\\core\\dense.py:87: UserWarning: Do not pass an `input_shape`/`input_dim` argument to a layer. When using Sequential models, prefer using an `Input(shape)` object as the first layer in the model instead.\n",
      "  super().__init__(activity_regularizer=activity_regularizer, **kwargs)\n"
     ]
    },
    {
     "name": "stdout",
     "output_type": "stream",
     "text": [
      "\u001b[1m148/148\u001b[0m \u001b[32m━━━━━━━━━━━━━━━━━━━━\u001b[0m\u001b[37m\u001b[0m \u001b[1m0s\u001b[0m 2ms/step\n",
      "   Model    Modality Upsampled  Fold  Accuracy  Precision    Recall  F1 Score  \\\n",
      "0    DNN        Text        No     1  0.915046   0.870793  0.739171  0.799601   \n",
      "1    DNN        Text        No     2  0.920118   0.881235  0.727451  0.796992   \n",
      "2    DNN        Text        No     3  0.915046   0.832783  0.751738  0.790188   \n",
      "3    DNN        Text        No     4  0.919256   0.889810  0.722115  0.797240   \n",
      "4    DNN        Text        No     5  0.864933   0.697324  0.750675  0.723017   \n",
      "5    DNN        Text       Yes     1  0.951183   0.946653  0.834101  0.886820   \n",
      "6    DNN        Text       Yes     2  0.949493   0.957796  0.800980  0.872397   \n",
      "7    DNN        Text       Yes     3  0.943576   0.943645  0.781529  0.854970   \n",
      "8    DNN        Text       Yes     4  0.942507   0.944444  0.784615  0.857143   \n",
      "9    DNN        Text       Yes     5  0.850349   0.640811  0.825383  0.721479   \n",
      "10   DNN       Audio        No     1  0.905748   0.846906  0.718894  0.777667   \n",
      "11   DNN       Audio        No     2  0.914413   0.827476  0.761765  0.793262   \n",
      "12   DNN       Audio        No     3  0.917794   0.841060  0.756703  0.796654   \n",
      "13   DNN       Audio        No     4  0.911647   0.872902  0.700000  0.776948   \n",
      "14   DNN       Audio        No     5  0.903614   0.832487  0.738074  0.782443   \n",
      "15   DNN       Audio       Yes     1  0.912511   0.852787  0.747465  0.796660   \n",
      "16   DNN       Audio       Yes     2  0.913356   0.847380  0.729412  0.783983   \n",
      "17   DNN       Audio       Yes     3  0.914624   0.834628  0.746773  0.788260   \n",
      "18   DNN       Audio       Yes     4  0.912915   0.869412  0.710577  0.782011   \n",
      "19   DNN       Audio       Yes     5  0.908053   0.847023  0.742574  0.791367   \n",
      "20   DNN  Text+Audio        No     1  0.932798   0.914595  0.779724  0.841791   \n",
      "21   DNN  Text+Audio        No     2  0.934489   0.873684  0.813725  0.842640   \n",
      "22   DNN  Text+Audio        No     3  0.938715   0.886731  0.816286  0.850052   \n",
      "23   DNN  Text+Audio        No     4  0.926231   0.856553  0.798077  0.826282   \n",
      "24   DNN  Text+Audio        No     5  0.887550   0.734413  0.816382  0.773231   \n",
      "25   DNN  Text+Audio       Yes     1  0.956044   0.951596  0.851613  0.898833   \n",
      "26   DNN  Text+Audio       Yes     2  0.954142   0.963091  0.818627  0.885003   \n",
      "27   DNN  Text+Audio       Yes     3  0.942308   0.899782  0.820258  0.858182   \n",
      "28   DNN  Text+Audio       Yes     4  0.949271   0.942478  0.819231  0.876543   \n",
      "29   DNN  Text+Audio       Yes     5  0.898964   0.765743  0.820882  0.792354   \n",
      "\n",
      "         AUC  \n",
      "0   0.853270  \n",
      "1   0.850256  \n",
      "2   0.855466  \n",
      "3   0.848459  \n",
      "4   0.825338  \n",
      "5   0.910059  \n",
      "6   0.895641  \n",
      "7   0.884456  \n",
      "8   0.885805  \n",
      "9   0.841697  \n",
      "10  0.840116  \n",
      "11  0.859061  \n",
      "12  0.859023  \n",
      "13  0.835641  \n",
      "14  0.846247  \n",
      "15  0.854539  \n",
      "16  0.846656  \n",
      "17  0.853386  \n",
      "18  0.840252  \n",
      "19  0.850707  \n",
      "20  0.879031  \n",
      "21  0.890699  \n",
      "22  0.894049  \n",
      "23  0.880209  \n",
      "24  0.862887  \n",
      "25  0.919363  \n",
      "26  0.905003  \n",
      "27  0.897780  \n",
      "28  0.902571  \n",
      "29  0.871905  \n"
     ]
    }
   ],
   "source": [
    "#Dense\n",
    "import os\n",
    "import numpy as np\n",
    "import pandas as pd\n",
    "from sklearn.model_selection import KFold\n",
    "from sklearn.metrics import accuracy_score, precision_score, recall_score, f1_score, roc_auc_score\n",
    "from tensorflow.keras.models import Sequential\n",
    "from tensorflow.keras.layers import Dense, Dropout\n",
    "from tensorflow.keras.optimizers import Adam\n",
    "\n",
    "# File paths\n",
    "paths = {\n",
    "    \"Text\": {\n",
    "        \"no\": r\"C:/Users/Administrator/PycharmProjects/Comprehensive/04sec_edaic/04sec_no_upsampling/Data_edaic/bert_embeddings_04sec_no_upsampled.npy\",\n",
    "        \"up\": r\"C:/Users/Administrator/PycharmProjects/Comprehensive/04sec_edaic/Data_edaic/bert_embeddings_04sec.npy\"\n",
    "    },\n",
    "    \"Audio\": {\n",
    "        \"no\": r\"C:/Users/Administrator/PycharmProjects/Comprehensive/04sec_edaic/04sec_no_upsampling/Data_edaic/acoustic_scaled_56_04sec.npy\",\n",
    "        \"up\": r\"C:/Users/Administrator/PycharmProjects/Comprehensive/04sec_edaic/Data_edaic/acoustic_scaled_56_04sec.npy\"\n",
    "    },\n",
    "    \"Text+Audio\": {\n",
    "        \"no\": r\"C:/Users/Administrator/PycharmProjects/Comprehensive/04sec_edaic/04sec_no_upsampling/Data_edaic/combined_embeddings_04sec_no_upsampled.npy\",\n",
    "        \"up\": r\"C:/Users/Administrator/PycharmProjects/Comprehensive/04sec_edaic/Data_edaic/combined_embeddings_04sec.npy\"\n",
    "    }\n",
    "}\n",
    "\n",
    "label_paths = {\n",
    "    \"no\": r\"C:/Users/Administrator/PycharmProjects/Comprehensive/04sec_edaic/04sec_no_upsampling/Data_edaic/labels_04sec_no_upsampled.npy\",\n",
    "    \"up\": r\"C:/Users/Administrator/PycharmProjects/Comprehensive/04sec_edaic/Data_edaic/labels_04sec.npy\"\n",
    "}\n",
    "\n",
    "\n",
    "def build_dnn_model(input_dim):\n",
    "    model = Sequential([\n",
    "        Dense(128, input_dim=input_dim, activation='relu'),\n",
    "        Dropout(0.3),\n",
    "        Dense(64, activation='relu'),\n",
    "        Dropout(0.3),\n",
    "        Dense(32, activation='relu'),\n",
    "        Dense(1, activation='sigmoid')\n",
    "    ])\n",
    "    model.compile(optimizer=Adam(0.001), loss='binary_crossentropy')\n",
    "    return model\n",
    "\n",
    "def run_kfold(X, y, input_dim, modality, upsampled_flag):\n",
    "    kf = KFold(n_splits=5, shuffle=True, random_state=42)\n",
    "    results = []\n",
    "\n",
    "    for fold, (train_idx, test_idx) in enumerate(kf.split(X)):\n",
    "        model = build_dnn_model(input_dim)\n",
    "        model.fit(X[train_idx], y[train_idx], epochs=30, batch_size=32, verbose=0)\n",
    "        y_pred = (model.predict(X[test_idx]) > 0.5).astype(int)\n",
    "\n",
    "        results.append({\n",
    "            \"Model\": \"DNN\",\n",
    "            \"Modality\": modality,\n",
    "            \"Upsampled\": upsampled_flag,\n",
    "            \"Fold\": fold + 1,\n",
    "            \"Accuracy\": accuracy_score(y[test_idx], y_pred),\n",
    "            \"Precision\": precision_score(y[test_idx], y_pred, zero_division=0),\n",
    "            \"Recall\": recall_score(y[test_idx], y_pred, zero_division=0),\n",
    "            \"F1 Score\": f1_score(y[test_idx], y_pred, zero_division=0),\n",
    "            \"AUC\": roc_auc_score(y[test_idx], y_pred)\n",
    "        })\n",
    "\n",
    "    return results\n",
    "\n",
    "all_results = []\n",
    "for modality, mod_paths in paths.items():\n",
    "    for condition, path in mod_paths.items():\n",
    "        X = np.load(path)\n",
    "        y = np.load(label_paths[condition])\n",
    "        all_results += run_kfold(X, y, X.shape[1], modality, \"Yes\" if condition == \"up\" else \"No\")\n",
    "\n",
    "df = pd.DataFrame(all_results)\n",
    "df.to_csv(\"Results_04sec_ablation_dense/5fold_dense_upsample_folds.csv\", index=False)\n",
    "print(df)\n"
   ]
  },
  {
   "cell_type": "code",
   "execution_count": 82,
   "id": "fedeb704-648c-4115-b29d-b4f8117e05af",
   "metadata": {},
   "outputs": [
    {
     "name": "stderr",
     "output_type": "stream",
     "text": [
      "C:\\Users\\Administrator\\.conda\\envs\\p311\\Lib\\site-packages\\keras\\src\\layers\\convolutional\\base_conv.py:107: UserWarning: Do not pass an `input_shape`/`input_dim` argument to a layer. When using Sequential models, prefer using an `Input(shape)` object as the first layer in the model instead.\n",
      "  super().__init__(activity_regularizer=activity_regularizer, **kwargs)\n"
     ]
    },
    {
     "name": "stdout",
     "output_type": "stream",
     "text": [
      "\u001b[1m148/148\u001b[0m \u001b[32m━━━━━━━━━━━━━━━━━━━━\u001b[0m\u001b[37m\u001b[0m \u001b[1m1s\u001b[0m 5ms/step\n"
     ]
    },
    {
     "name": "stderr",
     "output_type": "stream",
     "text": [
      "C:\\Users\\Administrator\\.conda\\envs\\p311\\Lib\\site-packages\\keras\\src\\layers\\convolutional\\base_conv.py:107: UserWarning: Do not pass an `input_shape`/`input_dim` argument to a layer. When using Sequential models, prefer using an `Input(shape)` object as the first layer in the model instead.\n",
      "  super().__init__(activity_regularizer=activity_regularizer, **kwargs)\n"
     ]
    },
    {
     "name": "stdout",
     "output_type": "stream",
     "text": [
      "\u001b[1m148/148\u001b[0m \u001b[32m━━━━━━━━━━━━━━━━━━━━\u001b[0m\u001b[37m\u001b[0m \u001b[1m1s\u001b[0m 5ms/step\n"
     ]
    },
    {
     "name": "stderr",
     "output_type": "stream",
     "text": [
      "C:\\Users\\Administrator\\.conda\\envs\\p311\\Lib\\site-packages\\keras\\src\\layers\\convolutional\\base_conv.py:107: UserWarning: Do not pass an `input_shape`/`input_dim` argument to a layer. When using Sequential models, prefer using an `Input(shape)` object as the first layer in the model instead.\n",
      "  super().__init__(activity_regularizer=activity_regularizer, **kwargs)\n"
     ]
    },
    {
     "name": "stdout",
     "output_type": "stream",
     "text": [
      "\u001b[1m148/148\u001b[0m \u001b[32m━━━━━━━━━━━━━━━━━━━━\u001b[0m\u001b[37m\u001b[0m \u001b[1m1s\u001b[0m 5ms/step\n"
     ]
    },
    {
     "name": "stderr",
     "output_type": "stream",
     "text": [
      "C:\\Users\\Administrator\\.conda\\envs\\p311\\Lib\\site-packages\\keras\\src\\layers\\convolutional\\base_conv.py:107: UserWarning: Do not pass an `input_shape`/`input_dim` argument to a layer. When using Sequential models, prefer using an `Input(shape)` object as the first layer in the model instead.\n",
      "  super().__init__(activity_regularizer=activity_regularizer, **kwargs)\n"
     ]
    },
    {
     "name": "stdout",
     "output_type": "stream",
     "text": [
      "\u001b[1m148/148\u001b[0m \u001b[32m━━━━━━━━━━━━━━━━━━━━\u001b[0m\u001b[37m\u001b[0m \u001b[1m1s\u001b[0m 6ms/step\n"
     ]
    },
    {
     "name": "stderr",
     "output_type": "stream",
     "text": [
      "C:\\Users\\Administrator\\.conda\\envs\\p311\\Lib\\site-packages\\keras\\src\\layers\\convolutional\\base_conv.py:107: UserWarning: Do not pass an `input_shape`/`input_dim` argument to a layer. When using Sequential models, prefer using an `Input(shape)` object as the first layer in the model instead.\n",
      "  super().__init__(activity_regularizer=activity_regularizer, **kwargs)\n"
     ]
    },
    {
     "name": "stdout",
     "output_type": "stream",
     "text": [
      "\u001b[1m148/148\u001b[0m \u001b[32m━━━━━━━━━━━━━━━━━━━━\u001b[0m\u001b[37m\u001b[0m \u001b[1m1s\u001b[0m 6ms/step\n"
     ]
    },
    {
     "name": "stderr",
     "output_type": "stream",
     "text": [
      "C:\\Users\\Administrator\\.conda\\envs\\p311\\Lib\\site-packages\\keras\\src\\layers\\convolutional\\base_conv.py:107: UserWarning: Do not pass an `input_shape`/`input_dim` argument to a layer. When using Sequential models, prefer using an `Input(shape)` object as the first layer in the model instead.\n",
      "  super().__init__(activity_regularizer=activity_regularizer, **kwargs)\n"
     ]
    },
    {
     "name": "stdout",
     "output_type": "stream",
     "text": [
      "\u001b[1m148/148\u001b[0m \u001b[32m━━━━━━━━━━━━━━━━━━━━\u001b[0m\u001b[37m\u001b[0m \u001b[1m1s\u001b[0m 6ms/step\n"
     ]
    },
    {
     "name": "stderr",
     "output_type": "stream",
     "text": [
      "C:\\Users\\Administrator\\.conda\\envs\\p311\\Lib\\site-packages\\keras\\src\\layers\\convolutional\\base_conv.py:107: UserWarning: Do not pass an `input_shape`/`input_dim` argument to a layer. When using Sequential models, prefer using an `Input(shape)` object as the first layer in the model instead.\n",
      "  super().__init__(activity_regularizer=activity_regularizer, **kwargs)\n"
     ]
    },
    {
     "name": "stdout",
     "output_type": "stream",
     "text": [
      "\u001b[1m148/148\u001b[0m \u001b[32m━━━━━━━━━━━━━━━━━━━━\u001b[0m\u001b[37m\u001b[0m \u001b[1m1s\u001b[0m 5ms/step\n"
     ]
    },
    {
     "name": "stderr",
     "output_type": "stream",
     "text": [
      "C:\\Users\\Administrator\\.conda\\envs\\p311\\Lib\\site-packages\\keras\\src\\layers\\convolutional\\base_conv.py:107: UserWarning: Do not pass an `input_shape`/`input_dim` argument to a layer. When using Sequential models, prefer using an `Input(shape)` object as the first layer in the model instead.\n",
      "  super().__init__(activity_regularizer=activity_regularizer, **kwargs)\n"
     ]
    },
    {
     "name": "stdout",
     "output_type": "stream",
     "text": [
      "\u001b[1m148/148\u001b[0m \u001b[32m━━━━━━━━━━━━━━━━━━━━\u001b[0m\u001b[37m\u001b[0m \u001b[1m1s\u001b[0m 5ms/step\n"
     ]
    },
    {
     "name": "stderr",
     "output_type": "stream",
     "text": [
      "C:\\Users\\Administrator\\.conda\\envs\\p311\\Lib\\site-packages\\keras\\src\\layers\\convolutional\\base_conv.py:107: UserWarning: Do not pass an `input_shape`/`input_dim` argument to a layer. When using Sequential models, prefer using an `Input(shape)` object as the first layer in the model instead.\n",
      "  super().__init__(activity_regularizer=activity_regularizer, **kwargs)\n"
     ]
    },
    {
     "name": "stdout",
     "output_type": "stream",
     "text": [
      "\u001b[1m148/148\u001b[0m \u001b[32m━━━━━━━━━━━━━━━━━━━━\u001b[0m\u001b[37m\u001b[0m \u001b[1m1s\u001b[0m 5ms/step\n"
     ]
    },
    {
     "name": "stderr",
     "output_type": "stream",
     "text": [
      "C:\\Users\\Administrator\\.conda\\envs\\p311\\Lib\\site-packages\\keras\\src\\layers\\convolutional\\base_conv.py:107: UserWarning: Do not pass an `input_shape`/`input_dim` argument to a layer. When using Sequential models, prefer using an `Input(shape)` object as the first layer in the model instead.\n",
      "  super().__init__(activity_regularizer=activity_regularizer, **kwargs)\n"
     ]
    },
    {
     "name": "stdout",
     "output_type": "stream",
     "text": [
      "\u001b[1m148/148\u001b[0m \u001b[32m━━━━━━━━━━━━━━━━━━━━\u001b[0m\u001b[37m\u001b[0m \u001b[1m1s\u001b[0m 5ms/step\n"
     ]
    },
    {
     "name": "stderr",
     "output_type": "stream",
     "text": [
      "C:\\Users\\Administrator\\.conda\\envs\\p311\\Lib\\site-packages\\keras\\src\\layers\\convolutional\\base_conv.py:107: UserWarning: Do not pass an `input_shape`/`input_dim` argument to a layer. When using Sequential models, prefer using an `Input(shape)` object as the first layer in the model instead.\n",
      "  super().__init__(activity_regularizer=activity_regularizer, **kwargs)\n"
     ]
    },
    {
     "name": "stdout",
     "output_type": "stream",
     "text": [
      "\u001b[1m148/148\u001b[0m \u001b[32m━━━━━━━━━━━━━━━━━━━━\u001b[0m\u001b[37m\u001b[0m \u001b[1m0s\u001b[0m 3ms/step\n"
     ]
    },
    {
     "name": "stderr",
     "output_type": "stream",
     "text": [
      "C:\\Users\\Administrator\\.conda\\envs\\p311\\Lib\\site-packages\\keras\\src\\layers\\convolutional\\base_conv.py:107: UserWarning: Do not pass an `input_shape`/`input_dim` argument to a layer. When using Sequential models, prefer using an `Input(shape)` object as the first layer in the model instead.\n",
      "  super().__init__(activity_regularizer=activity_regularizer, **kwargs)\n"
     ]
    },
    {
     "name": "stdout",
     "output_type": "stream",
     "text": [
      "\u001b[1m148/148\u001b[0m \u001b[32m━━━━━━━━━━━━━━━━━━━━\u001b[0m\u001b[37m\u001b[0m \u001b[1m0s\u001b[0m 2ms/step\n"
     ]
    },
    {
     "name": "stderr",
     "output_type": "stream",
     "text": [
      "C:\\Users\\Administrator\\.conda\\envs\\p311\\Lib\\site-packages\\keras\\src\\layers\\convolutional\\base_conv.py:107: UserWarning: Do not pass an `input_shape`/`input_dim` argument to a layer. When using Sequential models, prefer using an `Input(shape)` object as the first layer in the model instead.\n",
      "  super().__init__(activity_regularizer=activity_regularizer, **kwargs)\n"
     ]
    },
    {
     "name": "stdout",
     "output_type": "stream",
     "text": [
      "\u001b[1m148/148\u001b[0m \u001b[32m━━━━━━━━━━━━━━━━━━━━\u001b[0m\u001b[37m\u001b[0m \u001b[1m0s\u001b[0m 2ms/step\n"
     ]
    },
    {
     "name": "stderr",
     "output_type": "stream",
     "text": [
      "C:\\Users\\Administrator\\.conda\\envs\\p311\\Lib\\site-packages\\keras\\src\\layers\\convolutional\\base_conv.py:107: UserWarning: Do not pass an `input_shape`/`input_dim` argument to a layer. When using Sequential models, prefer using an `Input(shape)` object as the first layer in the model instead.\n",
      "  super().__init__(activity_regularizer=activity_regularizer, **kwargs)\n"
     ]
    },
    {
     "name": "stdout",
     "output_type": "stream",
     "text": [
      "\u001b[1m148/148\u001b[0m \u001b[32m━━━━━━━━━━━━━━━━━━━━\u001b[0m\u001b[37m\u001b[0m \u001b[1m0s\u001b[0m 2ms/step\n"
     ]
    },
    {
     "name": "stderr",
     "output_type": "stream",
     "text": [
      "C:\\Users\\Administrator\\.conda\\envs\\p311\\Lib\\site-packages\\keras\\src\\layers\\convolutional\\base_conv.py:107: UserWarning: Do not pass an `input_shape`/`input_dim` argument to a layer. When using Sequential models, prefer using an `Input(shape)` object as the first layer in the model instead.\n",
      "  super().__init__(activity_regularizer=activity_regularizer, **kwargs)\n"
     ]
    },
    {
     "name": "stdout",
     "output_type": "stream",
     "text": [
      "\u001b[1m148/148\u001b[0m \u001b[32m━━━━━━━━━━━━━━━━━━━━\u001b[0m\u001b[37m\u001b[0m \u001b[1m0s\u001b[0m 2ms/step\n"
     ]
    },
    {
     "name": "stderr",
     "output_type": "stream",
     "text": [
      "C:\\Users\\Administrator\\.conda\\envs\\p311\\Lib\\site-packages\\keras\\src\\layers\\convolutional\\base_conv.py:107: UserWarning: Do not pass an `input_shape`/`input_dim` argument to a layer. When using Sequential models, prefer using an `Input(shape)` object as the first layer in the model instead.\n",
      "  super().__init__(activity_regularizer=activity_regularizer, **kwargs)\n"
     ]
    },
    {
     "name": "stdout",
     "output_type": "stream",
     "text": [
      "\u001b[1m148/148\u001b[0m \u001b[32m━━━━━━━━━━━━━━━━━━━━\u001b[0m\u001b[37m\u001b[0m \u001b[1m0s\u001b[0m 2ms/step\n"
     ]
    },
    {
     "name": "stderr",
     "output_type": "stream",
     "text": [
      "C:\\Users\\Administrator\\.conda\\envs\\p311\\Lib\\site-packages\\keras\\src\\layers\\convolutional\\base_conv.py:107: UserWarning: Do not pass an `input_shape`/`input_dim` argument to a layer. When using Sequential models, prefer using an `Input(shape)` object as the first layer in the model instead.\n",
      "  super().__init__(activity_regularizer=activity_regularizer, **kwargs)\n"
     ]
    },
    {
     "name": "stdout",
     "output_type": "stream",
     "text": [
      "\u001b[1m148/148\u001b[0m \u001b[32m━━━━━━━━━━━━━━━━━━━━\u001b[0m\u001b[37m\u001b[0m \u001b[1m0s\u001b[0m 2ms/step\n"
     ]
    },
    {
     "name": "stderr",
     "output_type": "stream",
     "text": [
      "C:\\Users\\Administrator\\.conda\\envs\\p311\\Lib\\site-packages\\keras\\src\\layers\\convolutional\\base_conv.py:107: UserWarning: Do not pass an `input_shape`/`input_dim` argument to a layer. When using Sequential models, prefer using an `Input(shape)` object as the first layer in the model instead.\n",
      "  super().__init__(activity_regularizer=activity_regularizer, **kwargs)\n"
     ]
    },
    {
     "name": "stdout",
     "output_type": "stream",
     "text": [
      "\u001b[1m148/148\u001b[0m \u001b[32m━━━━━━━━━━━━━━━━━━━━\u001b[0m\u001b[37m\u001b[0m \u001b[1m0s\u001b[0m 2ms/step\n"
     ]
    },
    {
     "name": "stderr",
     "output_type": "stream",
     "text": [
      "C:\\Users\\Administrator\\.conda\\envs\\p311\\Lib\\site-packages\\keras\\src\\layers\\convolutional\\base_conv.py:107: UserWarning: Do not pass an `input_shape`/`input_dim` argument to a layer. When using Sequential models, prefer using an `Input(shape)` object as the first layer in the model instead.\n",
      "  super().__init__(activity_regularizer=activity_regularizer, **kwargs)\n"
     ]
    },
    {
     "name": "stdout",
     "output_type": "stream",
     "text": [
      "\u001b[1m148/148\u001b[0m \u001b[32m━━━━━━━━━━━━━━━━━━━━\u001b[0m\u001b[37m\u001b[0m \u001b[1m0s\u001b[0m 2ms/step\n"
     ]
    },
    {
     "name": "stderr",
     "output_type": "stream",
     "text": [
      "C:\\Users\\Administrator\\.conda\\envs\\p311\\Lib\\site-packages\\keras\\src\\layers\\convolutional\\base_conv.py:107: UserWarning: Do not pass an `input_shape`/`input_dim` argument to a layer. When using Sequential models, prefer using an `Input(shape)` object as the first layer in the model instead.\n",
      "  super().__init__(activity_regularizer=activity_regularizer, **kwargs)\n"
     ]
    },
    {
     "name": "stdout",
     "output_type": "stream",
     "text": [
      "\u001b[1m148/148\u001b[0m \u001b[32m━━━━━━━━━━━━━━━━━━━━\u001b[0m\u001b[37m\u001b[0m \u001b[1m0s\u001b[0m 3ms/step\n"
     ]
    },
    {
     "name": "stderr",
     "output_type": "stream",
     "text": [
      "C:\\Users\\Administrator\\.conda\\envs\\p311\\Lib\\site-packages\\keras\\src\\layers\\convolutional\\base_conv.py:107: UserWarning: Do not pass an `input_shape`/`input_dim` argument to a layer. When using Sequential models, prefer using an `Input(shape)` object as the first layer in the model instead.\n",
      "  super().__init__(activity_regularizer=activity_regularizer, **kwargs)\n"
     ]
    },
    {
     "name": "stdout",
     "output_type": "stream",
     "text": [
      "\u001b[1m148/148\u001b[0m \u001b[32m━━━━━━━━━━━━━━━━━━━━\u001b[0m\u001b[37m\u001b[0m \u001b[1m1s\u001b[0m 6ms/step\n"
     ]
    },
    {
     "name": "stderr",
     "output_type": "stream",
     "text": [
      "C:\\Users\\Administrator\\.conda\\envs\\p311\\Lib\\site-packages\\keras\\src\\layers\\convolutional\\base_conv.py:107: UserWarning: Do not pass an `input_shape`/`input_dim` argument to a layer. When using Sequential models, prefer using an `Input(shape)` object as the first layer in the model instead.\n",
      "  super().__init__(activity_regularizer=activity_regularizer, **kwargs)\n"
     ]
    },
    {
     "name": "stdout",
     "output_type": "stream",
     "text": [
      "\u001b[1m148/148\u001b[0m \u001b[32m━━━━━━━━━━━━━━━━━━━━\u001b[0m\u001b[37m\u001b[0m \u001b[1m1s\u001b[0m 5ms/step\n"
     ]
    },
    {
     "name": "stderr",
     "output_type": "stream",
     "text": [
      "C:\\Users\\Administrator\\.conda\\envs\\p311\\Lib\\site-packages\\keras\\src\\layers\\convolutional\\base_conv.py:107: UserWarning: Do not pass an `input_shape`/`input_dim` argument to a layer. When using Sequential models, prefer using an `Input(shape)` object as the first layer in the model instead.\n",
      "  super().__init__(activity_regularizer=activity_regularizer, **kwargs)\n"
     ]
    },
    {
     "name": "stdout",
     "output_type": "stream",
     "text": [
      "\u001b[1m148/148\u001b[0m \u001b[32m━━━━━━━━━━━━━━━━━━━━\u001b[0m\u001b[37m\u001b[0m \u001b[1m1s\u001b[0m 5ms/step\n"
     ]
    },
    {
     "name": "stderr",
     "output_type": "stream",
     "text": [
      "C:\\Users\\Administrator\\.conda\\envs\\p311\\Lib\\site-packages\\keras\\src\\layers\\convolutional\\base_conv.py:107: UserWarning: Do not pass an `input_shape`/`input_dim` argument to a layer. When using Sequential models, prefer using an `Input(shape)` object as the first layer in the model instead.\n",
      "  super().__init__(activity_regularizer=activity_regularizer, **kwargs)\n"
     ]
    },
    {
     "name": "stdout",
     "output_type": "stream",
     "text": [
      "\u001b[1m148/148\u001b[0m \u001b[32m━━━━━━━━━━━━━━━━━━━━\u001b[0m\u001b[37m\u001b[0m \u001b[1m1s\u001b[0m 6ms/step\n"
     ]
    },
    {
     "name": "stderr",
     "output_type": "stream",
     "text": [
      "C:\\Users\\Administrator\\.conda\\envs\\p311\\Lib\\site-packages\\keras\\src\\layers\\convolutional\\base_conv.py:107: UserWarning: Do not pass an `input_shape`/`input_dim` argument to a layer. When using Sequential models, prefer using an `Input(shape)` object as the first layer in the model instead.\n",
      "  super().__init__(activity_regularizer=activity_regularizer, **kwargs)\n"
     ]
    },
    {
     "name": "stdout",
     "output_type": "stream",
     "text": [
      "\u001b[1m148/148\u001b[0m \u001b[32m━━━━━━━━━━━━━━━━━━━━\u001b[0m\u001b[37m\u001b[0m \u001b[1m1s\u001b[0m 5ms/step\n"
     ]
    },
    {
     "name": "stderr",
     "output_type": "stream",
     "text": [
      "C:\\Users\\Administrator\\.conda\\envs\\p311\\Lib\\site-packages\\keras\\src\\layers\\convolutional\\base_conv.py:107: UserWarning: Do not pass an `input_shape`/`input_dim` argument to a layer. When using Sequential models, prefer using an `Input(shape)` object as the first layer in the model instead.\n",
      "  super().__init__(activity_regularizer=activity_regularizer, **kwargs)\n"
     ]
    },
    {
     "name": "stdout",
     "output_type": "stream",
     "text": [
      "\u001b[1m148/148\u001b[0m \u001b[32m━━━━━━━━━━━━━━━━━━━━\u001b[0m\u001b[37m\u001b[0m \u001b[1m1s\u001b[0m 5ms/step\n"
     ]
    },
    {
     "name": "stderr",
     "output_type": "stream",
     "text": [
      "C:\\Users\\Administrator\\.conda\\envs\\p311\\Lib\\site-packages\\keras\\src\\layers\\convolutional\\base_conv.py:107: UserWarning: Do not pass an `input_shape`/`input_dim` argument to a layer. When using Sequential models, prefer using an `Input(shape)` object as the first layer in the model instead.\n",
      "  super().__init__(activity_regularizer=activity_regularizer, **kwargs)\n"
     ]
    },
    {
     "name": "stdout",
     "output_type": "stream",
     "text": [
      "\u001b[1m148/148\u001b[0m \u001b[32m━━━━━━━━━━━━━━━━━━━━\u001b[0m\u001b[37m\u001b[0m \u001b[1m1s\u001b[0m 5ms/step\n"
     ]
    },
    {
     "name": "stderr",
     "output_type": "stream",
     "text": [
      "C:\\Users\\Administrator\\.conda\\envs\\p311\\Lib\\site-packages\\keras\\src\\layers\\convolutional\\base_conv.py:107: UserWarning: Do not pass an `input_shape`/`input_dim` argument to a layer. When using Sequential models, prefer using an `Input(shape)` object as the first layer in the model instead.\n",
      "  super().__init__(activity_regularizer=activity_regularizer, **kwargs)\n"
     ]
    },
    {
     "name": "stdout",
     "output_type": "stream",
     "text": [
      "\u001b[1m148/148\u001b[0m \u001b[32m━━━━━━━━━━━━━━━━━━━━\u001b[0m\u001b[37m\u001b[0m \u001b[1m1s\u001b[0m 5ms/step\n"
     ]
    },
    {
     "name": "stderr",
     "output_type": "stream",
     "text": [
      "C:\\Users\\Administrator\\.conda\\envs\\p311\\Lib\\site-packages\\keras\\src\\layers\\convolutional\\base_conv.py:107: UserWarning: Do not pass an `input_shape`/`input_dim` argument to a layer. When using Sequential models, prefer using an `Input(shape)` object as the first layer in the model instead.\n",
      "  super().__init__(activity_regularizer=activity_regularizer, **kwargs)\n"
     ]
    },
    {
     "name": "stdout",
     "output_type": "stream",
     "text": [
      "\u001b[1m148/148\u001b[0m \u001b[32m━━━━━━━━━━━━━━━━━━━━\u001b[0m\u001b[37m\u001b[0m \u001b[1m1s\u001b[0m 5ms/step\n"
     ]
    },
    {
     "name": "stderr",
     "output_type": "stream",
     "text": [
      "C:\\Users\\Administrator\\.conda\\envs\\p311\\Lib\\site-packages\\keras\\src\\layers\\convolutional\\base_conv.py:107: UserWarning: Do not pass an `input_shape`/`input_dim` argument to a layer. When using Sequential models, prefer using an `Input(shape)` object as the first layer in the model instead.\n",
      "  super().__init__(activity_regularizer=activity_regularizer, **kwargs)\n"
     ]
    },
    {
     "name": "stdout",
     "output_type": "stream",
     "text": [
      "\u001b[1m148/148\u001b[0m \u001b[32m━━━━━━━━━━━━━━━━━━━━\u001b[0m\u001b[37m\u001b[0m \u001b[1m1s\u001b[0m 5ms/step\n",
      "    Model    Modality Upsampled  Fold  Accuracy  Precision    Recall  \\\n",
      "0   1DCNN        Text        No     1  0.910609   0.850636  0.740092   \n",
      "1   1DCNN        Text        No     2  0.906382   0.836639  0.702941   \n",
      "2   1DCNN        Text        No     3  0.914201   0.853946  0.719960   \n",
      "3   1DCNN        Text        No     4  0.910590   0.844693  0.726923   \n",
      "4   1DCNN        Text        No     5  0.849503   0.661538  0.735374   \n",
      "5   1DCNN        Text       Yes     1  0.948014   0.944857  0.821198   \n",
      "6   1DCNN        Text       Yes     2  0.945055   0.966830  0.771569   \n",
      "7   1DCNN        Text       Yes     3  0.947380   0.949052  0.795432   \n",
      "8   1DCNN        Text       Yes     4  0.943141   0.918567  0.813462   \n",
      "9   1DCNN        Text       Yes     5  0.863031   0.668609  0.826283   \n",
      "10  1DCNN       Audio        No     1  0.889899   0.793750  0.702304   \n",
      "11  1DCNN       Audio        No     2  0.901733   0.838828  0.673529   \n",
      "12  1DCNN       Audio        No     3  0.901099   0.783386  0.739821   \n",
      "13  1DCNN       Audio        No     4  0.894948   0.806780  0.686538   \n",
      "14  1DCNN       Audio        No     5  0.891778   0.816931  0.694869   \n",
      "15  1DCNN       Audio       Yes     1  0.886940   0.787056  0.694931   \n",
      "16  1DCNN       Audio       Yes     2  0.897506   0.772126  0.744118   \n",
      "17  1DCNN       Audio       Yes     3  0.905325   0.816535  0.715988   \n",
      "18  1DCNN       Audio       Yes     4  0.892834   0.808806  0.671154   \n",
      "19  1DCNN       Audio       Yes     5  0.887127   0.848851  0.631863   \n",
      "20  1DCNN  Text+Audio        No     1  0.924768   0.860534  0.801843   \n",
      "21  1DCNN  Text+Audio        No     2  0.933009   0.887541  0.789216   \n",
      "22  1DCNN  Text+Audio        No     3  0.926247   0.885246  0.750745   \n",
      "23  1DCNN  Text+Audio        No     4  0.931727   0.853202  0.832692   \n",
      "24  1DCNN  Text+Audio        No     5  0.883534   0.732172  0.794779   \n",
      "25  1DCNN  Text+Audio       Yes     1  0.954142   0.949275  0.845161   \n",
      "26  1DCNN  Text+Audio       Yes     2  0.952451   0.938258  0.834314   \n",
      "27  1DCNN  Text+Audio       Yes     3  0.944210   0.929480  0.798411   \n",
      "28  1DCNN  Text+Audio       Yes     4  0.948637   0.947250  0.811538   \n",
      "29  1DCNN  Text+Audio       Yes     5  0.901501   0.771236  0.825383   \n",
      "\n",
      "    F1 Score       AUC  \n",
      "0   0.791523  0.850715  \n",
      "1   0.763985  0.832613  \n",
      "2   0.781250  0.843336  \n",
      "3   0.781395  0.844632  \n",
      "4   0.696505  0.809952  \n",
      "5   0.878698  0.903470  \n",
      "6   0.858233  0.882147  \n",
      "7   0.865478  0.891944  \n",
      "8   0.862825  0.896571  \n",
      "9   0.739130  0.850296  \n",
      "10  0.745232  0.824006  \n",
      "11  0.747145  0.818985  \n",
      "12  0.760981  0.842260  \n",
      "13  0.741818  0.820105  \n",
      "14  0.750973  0.823540  \n",
      "15  0.738130  0.819497  \n",
      "16  0.757863  0.841886  \n",
      "17  0.762963  0.836249  \n",
      "18  0.733579  0.813225  \n",
      "19  0.724458  0.798666  \n",
      "20  0.830153  0.881591  \n",
      "21  0.835496  0.880869  \n",
      "22  0.812466  0.862218  \n",
      "23  0.842822  0.896162  \n",
      "24  0.762192  0.852776  \n",
      "25  0.894198  0.915863  \n",
      "26  0.883238  0.909614  \n",
      "27  0.858974  0.891018  \n",
      "28  0.874158  0.899402  \n",
      "29  0.797391  0.875122  \n"
     ]
    }
   ],
   "source": [
    "#1dcnn\n",
    "import os\n",
    "import numpy as np\n",
    "import pandas as pd\n",
    "from sklearn.model_selection import KFold\n",
    "from sklearn.metrics import accuracy_score, precision_score, recall_score, f1_score, roc_auc_score\n",
    "from tensorflow.keras.models import Sequential\n",
    "from tensorflow.keras.layers import Conv1D, MaxPooling1D, Dropout, Flatten, Dense\n",
    "from tensorflow.keras.optimizers import Adam\n",
    "\n",
    "# File paths\n",
    "paths = {\n",
    "    \"Text\": {\n",
    "        \"no\": r\"C:/Users/Administrator/PycharmProjects/Comprehensive/04sec_edaic/04sec_no_upsampling/Data_edaic/bert_embeddings_04sec_no_upsampled.npy\",\n",
    "        \"up\": r\"C:/Users/Administrator/PycharmProjects/Comprehensive/04sec_edaic/Data_edaic/bert_embeddings_04sec.npy\"\n",
    "    },\n",
    "    \"Audio\": {\n",
    "        \"no\": r\"C:/Users/Administrator/PycharmProjects/Comprehensive/04sec_edaic/04sec_no_upsampling/Data_edaic/acoustic_scaled_56_04sec.npy\",\n",
    "        \"up\": r\"C:/Users/Administrator/PycharmProjects/Comprehensive/04sec_edaic/Data_edaic/acoustic_scaled_56_04sec.npy\"\n",
    "    },\n",
    "    \"Text+Audio\": {\n",
    "        \"no\": r\"C:/Users/Administrator/PycharmProjects/Comprehensive/04sec_edaic/04sec_no_upsampling/Data_edaic/combined_embeddings_04sec_no_upsampled.npy\",\n",
    "        \"up\": r\"C:/Users/Administrator/PycharmProjects/Comprehensive/04sec_edaic/Data_edaic/combined_embeddings_04sec.npy\"\n",
    "    }\n",
    "}\n",
    "\n",
    "label_paths = {\n",
    "    \"no\": r\"C:/Users/Administrator/PycharmProjects/Comprehensive/04sec_edaic/04sec_no_upsampling/Data_edaic/labels_04sec_no_upsampled.npy\",\n",
    "    \"up\": r\"C:/Users/Administrator/PycharmProjects/Comprehensive/04sec_edaic/Data_edaic/labels_04sec.npy\"\n",
    "}\n",
    "\n",
    "def build_1dcnn_model(input_shape):\n",
    "    return Sequential([\n",
    "        Conv1D(128, 3, activation='relu', input_shape=input_shape),\n",
    "        MaxPooling1D(),\n",
    "        Dropout(0.3),\n",
    "        Conv1D(64, 3, activation='relu'),\n",
    "        MaxPooling1D(pool_size=2),\n",
    "        Dropout(0.3),\n",
    "        Flatten(),\n",
    "        Dense(64, activation='relu'),\n",
    "        Dense(1, activation='sigmoid')\n",
    "    ])\n",
    "\n",
    "def run_kfold(X, y, modality, upsampled_flag):\n",
    "    X = np.expand_dims(X, axis=2)  # (samples, timesteps, features)\n",
    "    kf = KFold(n_splits=5, shuffle=True, random_state=42)\n",
    "    results = []\n",
    "\n",
    "    for fold, (train_idx, test_idx) in enumerate(kf.split(X)):\n",
    "        model = build_1dcnn_model(X.shape[1:])\n",
    "        model.compile(optimizer=Adam(0.001), loss='binary_crossentropy')\n",
    "        model.fit(X[train_idx], y[train_idx], epochs=30, batch_size=32, verbose=0)\n",
    "        y_pred = (model.predict(X[test_idx]) > 0.5).astype(int)\n",
    "\n",
    "        results.append({\n",
    "            \"Model\": \"1DCNN\",\n",
    "            \"Modality\": modality,\n",
    "            \"Upsampled\": upsampled_flag,\n",
    "            \"Fold\": fold + 1,\n",
    "            \"Accuracy\": accuracy_score(y[test_idx], y_pred),\n",
    "            \"Precision\": precision_score(y[test_idx], y_pred, zero_division=0),\n",
    "            \"Recall\": recall_score(y[test_idx], y_pred, zero_division=0),\n",
    "            \"F1 Score\": f1_score(y[test_idx], y_pred, zero_division=0),\n",
    "            \"AUC\": roc_auc_score(y[test_idx], y_pred)\n",
    "        })\n",
    "\n",
    "    return results\n",
    "\n",
    "all_results = []\n",
    "for modality, mod_paths in paths.items():\n",
    "    for condition, path in mod_paths.items():\n",
    "        X = np.load(path)\n",
    "        y = np.load(label_paths[condition])\n",
    "        all_results += run_kfold(X, y, modality, \"Yes\" if condition == \"up\" else \"No\")\n",
    "\n",
    "df = pd.DataFrame(all_results)\n",
    "df.to_csv(\"Results_04sec_ablation_1dcnn/5fold_1dcnn_upsample_folds.csv\", index=False)\n",
    "print(df)\n"
   ]
  },
  {
   "cell_type": "code",
   "execution_count": 84,
   "id": "363021db-bf93-4cdf-9846-702630209692",
   "metadata": {},
   "outputs": [
    {
     "name": "stderr",
     "output_type": "stream",
     "text": [
      "C:\\Users\\Administrator\\.conda\\envs\\p311\\Lib\\site-packages\\keras\\src\\layers\\rnn\\rnn.py:200: UserWarning: Do not pass an `input_shape`/`input_dim` argument to a layer. When using Sequential models, prefer using an `Input(shape)` object as the first layer in the model instead.\n",
      "  super().__init__(**kwargs)\n"
     ]
    },
    {
     "name": "stdout",
     "output_type": "stream",
     "text": [
      "\u001b[1m148/148\u001b[0m \u001b[32m━━━━━━━━━━━━━━━━━━━━\u001b[0m\u001b[37m\u001b[0m \u001b[1m1s\u001b[0m 3ms/step\n"
     ]
    },
    {
     "name": "stderr",
     "output_type": "stream",
     "text": [
      "C:\\Users\\Administrator\\.conda\\envs\\p311\\Lib\\site-packages\\keras\\src\\layers\\rnn\\rnn.py:200: UserWarning: Do not pass an `input_shape`/`input_dim` argument to a layer. When using Sequential models, prefer using an `Input(shape)` object as the first layer in the model instead.\n",
      "  super().__init__(**kwargs)\n"
     ]
    },
    {
     "name": "stdout",
     "output_type": "stream",
     "text": [
      "\u001b[1m148/148\u001b[0m \u001b[32m━━━━━━━━━━━━━━━━━━━━\u001b[0m\u001b[37m\u001b[0m \u001b[1m1s\u001b[0m 2ms/step\n"
     ]
    },
    {
     "name": "stderr",
     "output_type": "stream",
     "text": [
      "C:\\Users\\Administrator\\.conda\\envs\\p311\\Lib\\site-packages\\keras\\src\\layers\\rnn\\rnn.py:200: UserWarning: Do not pass an `input_shape`/`input_dim` argument to a layer. When using Sequential models, prefer using an `Input(shape)` object as the first layer in the model instead.\n",
      "  super().__init__(**kwargs)\n"
     ]
    },
    {
     "name": "stdout",
     "output_type": "stream",
     "text": [
      "\u001b[1m148/148\u001b[0m \u001b[32m━━━━━━━━━━━━━━━━━━━━\u001b[0m\u001b[37m\u001b[0m \u001b[1m1s\u001b[0m 3ms/step\n"
     ]
    },
    {
     "name": "stderr",
     "output_type": "stream",
     "text": [
      "C:\\Users\\Administrator\\.conda\\envs\\p311\\Lib\\site-packages\\keras\\src\\layers\\rnn\\rnn.py:200: UserWarning: Do not pass an `input_shape`/`input_dim` argument to a layer. When using Sequential models, prefer using an `Input(shape)` object as the first layer in the model instead.\n",
      "  super().__init__(**kwargs)\n"
     ]
    },
    {
     "name": "stdout",
     "output_type": "stream",
     "text": [
      "\u001b[1m148/148\u001b[0m \u001b[32m━━━━━━━━━━━━━━━━━━━━\u001b[0m\u001b[37m\u001b[0m \u001b[1m1s\u001b[0m 3ms/step\n"
     ]
    },
    {
     "name": "stderr",
     "output_type": "stream",
     "text": [
      "C:\\Users\\Administrator\\.conda\\envs\\p311\\Lib\\site-packages\\keras\\src\\layers\\rnn\\rnn.py:200: UserWarning: Do not pass an `input_shape`/`input_dim` argument to a layer. When using Sequential models, prefer using an `Input(shape)` object as the first layer in the model instead.\n",
      "  super().__init__(**kwargs)\n"
     ]
    },
    {
     "name": "stdout",
     "output_type": "stream",
     "text": [
      "\u001b[1m148/148\u001b[0m \u001b[32m━━━━━━━━━━━━━━━━━━━━\u001b[0m\u001b[37m\u001b[0m \u001b[1m1s\u001b[0m 3ms/step\n"
     ]
    },
    {
     "name": "stderr",
     "output_type": "stream",
     "text": [
      "C:\\Users\\Administrator\\.conda\\envs\\p311\\Lib\\site-packages\\keras\\src\\layers\\rnn\\rnn.py:200: UserWarning: Do not pass an `input_shape`/`input_dim` argument to a layer. When using Sequential models, prefer using an `Input(shape)` object as the first layer in the model instead.\n",
      "  super().__init__(**kwargs)\n"
     ]
    },
    {
     "name": "stdout",
     "output_type": "stream",
     "text": [
      "\u001b[1m148/148\u001b[0m \u001b[32m━━━━━━━━━━━━━━━━━━━━\u001b[0m\u001b[37m\u001b[0m \u001b[1m1s\u001b[0m 3ms/step\n"
     ]
    },
    {
     "name": "stderr",
     "output_type": "stream",
     "text": [
      "C:\\Users\\Administrator\\.conda\\envs\\p311\\Lib\\site-packages\\keras\\src\\layers\\rnn\\rnn.py:200: UserWarning: Do not pass an `input_shape`/`input_dim` argument to a layer. When using Sequential models, prefer using an `Input(shape)` object as the first layer in the model instead.\n",
      "  super().__init__(**kwargs)\n"
     ]
    },
    {
     "name": "stdout",
     "output_type": "stream",
     "text": [
      "\u001b[1m148/148\u001b[0m \u001b[32m━━━━━━━━━━━━━━━━━━━━\u001b[0m\u001b[37m\u001b[0m \u001b[1m1s\u001b[0m 2ms/step\n"
     ]
    },
    {
     "name": "stderr",
     "output_type": "stream",
     "text": [
      "C:\\Users\\Administrator\\.conda\\envs\\p311\\Lib\\site-packages\\keras\\src\\layers\\rnn\\rnn.py:200: UserWarning: Do not pass an `input_shape`/`input_dim` argument to a layer. When using Sequential models, prefer using an `Input(shape)` object as the first layer in the model instead.\n",
      "  super().__init__(**kwargs)\n"
     ]
    },
    {
     "name": "stdout",
     "output_type": "stream",
     "text": [
      "\u001b[1m148/148\u001b[0m \u001b[32m━━━━━━━━━━━━━━━━━━━━\u001b[0m\u001b[37m\u001b[0m \u001b[1m1s\u001b[0m 2ms/step\n"
     ]
    },
    {
     "name": "stderr",
     "output_type": "stream",
     "text": [
      "C:\\Users\\Administrator\\.conda\\envs\\p311\\Lib\\site-packages\\keras\\src\\layers\\rnn\\rnn.py:200: UserWarning: Do not pass an `input_shape`/`input_dim` argument to a layer. When using Sequential models, prefer using an `Input(shape)` object as the first layer in the model instead.\n",
      "  super().__init__(**kwargs)\n"
     ]
    },
    {
     "name": "stdout",
     "output_type": "stream",
     "text": [
      "\u001b[1m148/148\u001b[0m \u001b[32m━━━━━━━━━━━━━━━━━━━━\u001b[0m\u001b[37m\u001b[0m \u001b[1m1s\u001b[0m 2ms/step\n"
     ]
    },
    {
     "name": "stderr",
     "output_type": "stream",
     "text": [
      "C:\\Users\\Administrator\\.conda\\envs\\p311\\Lib\\site-packages\\keras\\src\\layers\\rnn\\rnn.py:200: UserWarning: Do not pass an `input_shape`/`input_dim` argument to a layer. When using Sequential models, prefer using an `Input(shape)` object as the first layer in the model instead.\n",
      "  super().__init__(**kwargs)\n"
     ]
    },
    {
     "name": "stdout",
     "output_type": "stream",
     "text": [
      "\u001b[1m148/148\u001b[0m \u001b[32m━━━━━━━━━━━━━━━━━━━━\u001b[0m\u001b[37m\u001b[0m \u001b[1m1s\u001b[0m 2ms/step\n"
     ]
    },
    {
     "name": "stderr",
     "output_type": "stream",
     "text": [
      "C:\\Users\\Administrator\\.conda\\envs\\p311\\Lib\\site-packages\\keras\\src\\layers\\rnn\\rnn.py:200: UserWarning: Do not pass an `input_shape`/`input_dim` argument to a layer. When using Sequential models, prefer using an `Input(shape)` object as the first layer in the model instead.\n",
      "  super().__init__(**kwargs)\n"
     ]
    },
    {
     "name": "stdout",
     "output_type": "stream",
     "text": [
      "\u001b[1m148/148\u001b[0m \u001b[32m━━━━━━━━━━━━━━━━━━━━\u001b[0m\u001b[37m\u001b[0m \u001b[1m1s\u001b[0m 2ms/step\n"
     ]
    },
    {
     "name": "stderr",
     "output_type": "stream",
     "text": [
      "C:\\Users\\Administrator\\.conda\\envs\\p311\\Lib\\site-packages\\keras\\src\\layers\\rnn\\rnn.py:200: UserWarning: Do not pass an `input_shape`/`input_dim` argument to a layer. When using Sequential models, prefer using an `Input(shape)` object as the first layer in the model instead.\n",
      "  super().__init__(**kwargs)\n"
     ]
    },
    {
     "name": "stdout",
     "output_type": "stream",
     "text": [
      "\u001b[1m148/148\u001b[0m \u001b[32m━━━━━━━━━━━━━━━━━━━━\u001b[0m\u001b[37m\u001b[0m \u001b[1m1s\u001b[0m 2ms/step\n"
     ]
    },
    {
     "name": "stderr",
     "output_type": "stream",
     "text": [
      "C:\\Users\\Administrator\\.conda\\envs\\p311\\Lib\\site-packages\\keras\\src\\layers\\rnn\\rnn.py:200: UserWarning: Do not pass an `input_shape`/`input_dim` argument to a layer. When using Sequential models, prefer using an `Input(shape)` object as the first layer in the model instead.\n",
      "  super().__init__(**kwargs)\n"
     ]
    },
    {
     "name": "stdout",
     "output_type": "stream",
     "text": [
      "\u001b[1m148/148\u001b[0m \u001b[32m━━━━━━━━━━━━━━━━━━━━\u001b[0m\u001b[37m\u001b[0m \u001b[1m1s\u001b[0m 2ms/step\n"
     ]
    },
    {
     "name": "stderr",
     "output_type": "stream",
     "text": [
      "C:\\Users\\Administrator\\.conda\\envs\\p311\\Lib\\site-packages\\keras\\src\\layers\\rnn\\rnn.py:200: UserWarning: Do not pass an `input_shape`/`input_dim` argument to a layer. When using Sequential models, prefer using an `Input(shape)` object as the first layer in the model instead.\n",
      "  super().__init__(**kwargs)\n"
     ]
    },
    {
     "name": "stdout",
     "output_type": "stream",
     "text": [
      "\u001b[1m148/148\u001b[0m \u001b[32m━━━━━━━━━━━━━━━━━━━━\u001b[0m\u001b[37m\u001b[0m \u001b[1m1s\u001b[0m 2ms/step\n"
     ]
    },
    {
     "name": "stderr",
     "output_type": "stream",
     "text": [
      "C:\\Users\\Administrator\\.conda\\envs\\p311\\Lib\\site-packages\\keras\\src\\layers\\rnn\\rnn.py:200: UserWarning: Do not pass an `input_shape`/`input_dim` argument to a layer. When using Sequential models, prefer using an `Input(shape)` object as the first layer in the model instead.\n",
      "  super().__init__(**kwargs)\n"
     ]
    },
    {
     "name": "stdout",
     "output_type": "stream",
     "text": [
      "\u001b[1m148/148\u001b[0m \u001b[32m━━━━━━━━━━━━━━━━━━━━\u001b[0m\u001b[37m\u001b[0m \u001b[1m1s\u001b[0m 2ms/step\n"
     ]
    },
    {
     "name": "stderr",
     "output_type": "stream",
     "text": [
      "C:\\Users\\Administrator\\.conda\\envs\\p311\\Lib\\site-packages\\keras\\src\\layers\\rnn\\rnn.py:200: UserWarning: Do not pass an `input_shape`/`input_dim` argument to a layer. When using Sequential models, prefer using an `Input(shape)` object as the first layer in the model instead.\n",
      "  super().__init__(**kwargs)\n"
     ]
    },
    {
     "name": "stdout",
     "output_type": "stream",
     "text": [
      "\u001b[1m148/148\u001b[0m \u001b[32m━━━━━━━━━━━━━━━━━━━━\u001b[0m\u001b[37m\u001b[0m \u001b[1m1s\u001b[0m 2ms/step\n"
     ]
    },
    {
     "name": "stderr",
     "output_type": "stream",
     "text": [
      "C:\\Users\\Administrator\\.conda\\envs\\p311\\Lib\\site-packages\\keras\\src\\layers\\rnn\\rnn.py:200: UserWarning: Do not pass an `input_shape`/`input_dim` argument to a layer. When using Sequential models, prefer using an `Input(shape)` object as the first layer in the model instead.\n",
      "  super().__init__(**kwargs)\n"
     ]
    },
    {
     "name": "stdout",
     "output_type": "stream",
     "text": [
      "\u001b[1m148/148\u001b[0m \u001b[32m━━━━━━━━━━━━━━━━━━━━\u001b[0m\u001b[37m\u001b[0m \u001b[1m1s\u001b[0m 2ms/step\n"
     ]
    },
    {
     "name": "stderr",
     "output_type": "stream",
     "text": [
      "C:\\Users\\Administrator\\.conda\\envs\\p311\\Lib\\site-packages\\keras\\src\\layers\\rnn\\rnn.py:200: UserWarning: Do not pass an `input_shape`/`input_dim` argument to a layer. When using Sequential models, prefer using an `Input(shape)` object as the first layer in the model instead.\n",
      "  super().__init__(**kwargs)\n"
     ]
    },
    {
     "name": "stdout",
     "output_type": "stream",
     "text": [
      "\u001b[1m148/148\u001b[0m \u001b[32m━━━━━━━━━━━━━━━━━━━━\u001b[0m\u001b[37m\u001b[0m \u001b[1m1s\u001b[0m 2ms/step\n"
     ]
    },
    {
     "name": "stderr",
     "output_type": "stream",
     "text": [
      "C:\\Users\\Administrator\\.conda\\envs\\p311\\Lib\\site-packages\\keras\\src\\layers\\rnn\\rnn.py:200: UserWarning: Do not pass an `input_shape`/`input_dim` argument to a layer. When using Sequential models, prefer using an `Input(shape)` object as the first layer in the model instead.\n",
      "  super().__init__(**kwargs)\n"
     ]
    },
    {
     "name": "stdout",
     "output_type": "stream",
     "text": [
      "\u001b[1m148/148\u001b[0m \u001b[32m━━━━━━━━━━━━━━━━━━━━\u001b[0m\u001b[37m\u001b[0m \u001b[1m1s\u001b[0m 3ms/step\n"
     ]
    },
    {
     "name": "stderr",
     "output_type": "stream",
     "text": [
      "C:\\Users\\Administrator\\.conda\\envs\\p311\\Lib\\site-packages\\keras\\src\\layers\\rnn\\rnn.py:200: UserWarning: Do not pass an `input_shape`/`input_dim` argument to a layer. When using Sequential models, prefer using an `Input(shape)` object as the first layer in the model instead.\n",
      "  super().__init__(**kwargs)\n"
     ]
    },
    {
     "name": "stdout",
     "output_type": "stream",
     "text": [
      "\u001b[1m148/148\u001b[0m \u001b[32m━━━━━━━━━━━━━━━━━━━━\u001b[0m\u001b[37m\u001b[0m \u001b[1m1s\u001b[0m 2ms/step\n"
     ]
    },
    {
     "name": "stderr",
     "output_type": "stream",
     "text": [
      "C:\\Users\\Administrator\\.conda\\envs\\p311\\Lib\\site-packages\\keras\\src\\layers\\rnn\\rnn.py:200: UserWarning: Do not pass an `input_shape`/`input_dim` argument to a layer. When using Sequential models, prefer using an `Input(shape)` object as the first layer in the model instead.\n",
      "  super().__init__(**kwargs)\n"
     ]
    },
    {
     "name": "stdout",
     "output_type": "stream",
     "text": [
      "\u001b[1m148/148\u001b[0m \u001b[32m━━━━━━━━━━━━━━━━━━━━\u001b[0m\u001b[37m\u001b[0m \u001b[1m1s\u001b[0m 3ms/step\n"
     ]
    },
    {
     "name": "stderr",
     "output_type": "stream",
     "text": [
      "C:\\Users\\Administrator\\.conda\\envs\\p311\\Lib\\site-packages\\keras\\src\\layers\\rnn\\rnn.py:200: UserWarning: Do not pass an `input_shape`/`input_dim` argument to a layer. When using Sequential models, prefer using an `Input(shape)` object as the first layer in the model instead.\n",
      "  super().__init__(**kwargs)\n"
     ]
    },
    {
     "name": "stdout",
     "output_type": "stream",
     "text": [
      "\u001b[1m148/148\u001b[0m \u001b[32m━━━━━━━━━━━━━━━━━━━━\u001b[0m\u001b[37m\u001b[0m \u001b[1m1s\u001b[0m 2ms/step\n"
     ]
    },
    {
     "name": "stderr",
     "output_type": "stream",
     "text": [
      "C:\\Users\\Administrator\\.conda\\envs\\p311\\Lib\\site-packages\\keras\\src\\layers\\rnn\\rnn.py:200: UserWarning: Do not pass an `input_shape`/`input_dim` argument to a layer. When using Sequential models, prefer using an `Input(shape)` object as the first layer in the model instead.\n",
      "  super().__init__(**kwargs)\n"
     ]
    },
    {
     "name": "stdout",
     "output_type": "stream",
     "text": [
      "\u001b[1m148/148\u001b[0m \u001b[32m━━━━━━━━━━━━━━━━━━━━\u001b[0m\u001b[37m\u001b[0m \u001b[1m1s\u001b[0m 3ms/step\n"
     ]
    },
    {
     "name": "stderr",
     "output_type": "stream",
     "text": [
      "C:\\Users\\Administrator\\.conda\\envs\\p311\\Lib\\site-packages\\keras\\src\\layers\\rnn\\rnn.py:200: UserWarning: Do not pass an `input_shape`/`input_dim` argument to a layer. When using Sequential models, prefer using an `Input(shape)` object as the first layer in the model instead.\n",
      "  super().__init__(**kwargs)\n"
     ]
    },
    {
     "name": "stdout",
     "output_type": "stream",
     "text": [
      "\u001b[1m148/148\u001b[0m \u001b[32m━━━━━━━━━━━━━━━━━━━━\u001b[0m\u001b[37m\u001b[0m \u001b[1m1s\u001b[0m 2ms/step\n"
     ]
    },
    {
     "name": "stderr",
     "output_type": "stream",
     "text": [
      "C:\\Users\\Administrator\\.conda\\envs\\p311\\Lib\\site-packages\\keras\\src\\layers\\rnn\\rnn.py:200: UserWarning: Do not pass an `input_shape`/`input_dim` argument to a layer. When using Sequential models, prefer using an `Input(shape)` object as the first layer in the model instead.\n",
      "  super().__init__(**kwargs)\n"
     ]
    },
    {
     "name": "stdout",
     "output_type": "stream",
     "text": [
      "\u001b[1m148/148\u001b[0m \u001b[32m━━━━━━━━━━━━━━━━━━━━\u001b[0m\u001b[37m\u001b[0m \u001b[1m1s\u001b[0m 3ms/step\n"
     ]
    },
    {
     "name": "stderr",
     "output_type": "stream",
     "text": [
      "C:\\Users\\Administrator\\.conda\\envs\\p311\\Lib\\site-packages\\keras\\src\\layers\\rnn\\rnn.py:200: UserWarning: Do not pass an `input_shape`/`input_dim` argument to a layer. When using Sequential models, prefer using an `Input(shape)` object as the first layer in the model instead.\n",
      "  super().__init__(**kwargs)\n"
     ]
    },
    {
     "name": "stdout",
     "output_type": "stream",
     "text": [
      "\u001b[1m148/148\u001b[0m \u001b[32m━━━━━━━━━━━━━━━━━━━━\u001b[0m\u001b[37m\u001b[0m \u001b[1m1s\u001b[0m 2ms/step\n"
     ]
    },
    {
     "name": "stderr",
     "output_type": "stream",
     "text": [
      "C:\\Users\\Administrator\\.conda\\envs\\p311\\Lib\\site-packages\\keras\\src\\layers\\rnn\\rnn.py:200: UserWarning: Do not pass an `input_shape`/`input_dim` argument to a layer. When using Sequential models, prefer using an `Input(shape)` object as the first layer in the model instead.\n",
      "  super().__init__(**kwargs)\n"
     ]
    },
    {
     "name": "stdout",
     "output_type": "stream",
     "text": [
      "\u001b[1m148/148\u001b[0m \u001b[32m━━━━━━━━━━━━━━━━━━━━\u001b[0m\u001b[37m\u001b[0m \u001b[1m1s\u001b[0m 2ms/step\n"
     ]
    },
    {
     "name": "stderr",
     "output_type": "stream",
     "text": [
      "C:\\Users\\Administrator\\.conda\\envs\\p311\\Lib\\site-packages\\keras\\src\\layers\\rnn\\rnn.py:200: UserWarning: Do not pass an `input_shape`/`input_dim` argument to a layer. When using Sequential models, prefer using an `Input(shape)` object as the first layer in the model instead.\n",
      "  super().__init__(**kwargs)\n"
     ]
    },
    {
     "name": "stdout",
     "output_type": "stream",
     "text": [
      "\u001b[1m148/148\u001b[0m \u001b[32m━━━━━━━━━━━━━━━━━━━━\u001b[0m\u001b[37m\u001b[0m \u001b[1m1s\u001b[0m 3ms/step\n"
     ]
    },
    {
     "name": "stderr",
     "output_type": "stream",
     "text": [
      "C:\\Users\\Administrator\\.conda\\envs\\p311\\Lib\\site-packages\\keras\\src\\layers\\rnn\\rnn.py:200: UserWarning: Do not pass an `input_shape`/`input_dim` argument to a layer. When using Sequential models, prefer using an `Input(shape)` object as the first layer in the model instead.\n",
      "  super().__init__(**kwargs)\n"
     ]
    },
    {
     "name": "stdout",
     "output_type": "stream",
     "text": [
      "\u001b[1m148/148\u001b[0m \u001b[32m━━━━━━━━━━━━━━━━━━━━\u001b[0m\u001b[37m\u001b[0m \u001b[1m1s\u001b[0m 3ms/step\n"
     ]
    },
    {
     "name": "stderr",
     "output_type": "stream",
     "text": [
      "C:\\Users\\Administrator\\.conda\\envs\\p311\\Lib\\site-packages\\keras\\src\\layers\\rnn\\rnn.py:200: UserWarning: Do not pass an `input_shape`/`input_dim` argument to a layer. When using Sequential models, prefer using an `Input(shape)` object as the first layer in the model instead.\n",
      "  super().__init__(**kwargs)\n"
     ]
    },
    {
     "name": "stdout",
     "output_type": "stream",
     "text": [
      "\u001b[1m148/148\u001b[0m \u001b[32m━━━━━━━━━━━━━━━━━━━━\u001b[0m\u001b[37m\u001b[0m \u001b[1m1s\u001b[0m 2ms/step\n",
      "   Model    Modality Upsampled  Fold  Accuracy  Precision    Recall  F1 Score  \\\n",
      "0   LSTM        Text        No     1  0.916948   0.887025  0.730876  0.801415   \n",
      "1   LSTM        Text        No     2  0.915258   0.865407  0.718627  0.785217   \n",
      "2   LSTM        Text        No     3  0.913356   0.863581  0.704071  0.775711   \n",
      "3   LSTM        Text        No     4  0.916297   0.863431  0.735577  0.794393   \n",
      "4   LSTM        Text        No     5  0.853519   0.667468  0.749775  0.706231   \n",
      "5   LSTM        Text       Yes     1  0.946746   0.959206  0.801843  0.873494   \n",
      "6   LSTM        Text       Yes     2  0.949493   0.968788  0.791176  0.871020   \n",
      "7   LSTM        Text       Yes     3  0.946323   0.951981  0.787488  0.861957   \n",
      "8   LSTM        Text       Yes     4  0.946312   0.948630  0.799038  0.867432   \n",
      "9   LSTM        Text       Yes     5  0.868949   0.685004  0.818182  0.745693   \n",
      "10  LSTM       Audio        No     1  0.906171   0.858101  0.707834  0.775758   \n",
      "11  LSTM       Audio        No     2  0.906805   0.823464  0.722549  0.769713   \n",
      "12  LSTM       Audio        No     3  0.904057   0.798274  0.734856  0.765253   \n",
      "13  LSTM       Audio        No     4  0.905305   0.851544  0.689423  0.761955   \n",
      "14  LSTM       Audio        No     5  0.900021   0.835084  0.715572  0.770722   \n",
      "15  LSTM       Audio       Yes     1  0.907227   0.853392  0.718894  0.780390   \n",
      "16  LSTM       Audio       Yes     2  0.909763   0.835028  0.724510  0.775853   \n",
      "17  LSTM       Audio       Yes     3  0.913567   0.855107  0.714995  0.778799   \n",
      "18  LSTM       Audio       Yes     4  0.903826   0.828283  0.709615  0.764371   \n",
      "19  LSTM       Audio       Yes     5  0.904460   0.856216  0.712871  0.777996   \n",
      "20  LSTM  Text+Audio        No     1  0.936179   0.912540  0.798157  0.851524   \n",
      "21  LSTM  Text+Audio        No     2  0.934489   0.885870  0.799020  0.840206   \n",
      "22  LSTM  Text+Audio        No     3  0.927303   0.889542  0.751738  0.814855   \n",
      "23  LSTM  Text+Audio        No     4  0.932995   0.904815  0.776923  0.836006   \n",
      "24  LSTM  Text+Audio        No     5  0.893469   0.766462  0.785779  0.776000   \n",
      "25  LSTM  Text+Audio       Yes     1  0.955833   0.957203  0.845161  0.897699   \n",
      "26  LSTM  Text+Audio       Yes     2  0.954353   0.965278  0.817647  0.885350   \n",
      "27  LSTM  Text+Audio       Yes     3  0.951817   0.947187  0.819265  0.878594   \n",
      "28  LSTM  Text+Audio       Yes     4  0.951173   0.952968  0.818269  0.880497   \n",
      "29  LSTM  Text+Audio       Yes     5  0.886705   0.729449  0.822682  0.773266   \n",
      "\n",
      "         AUC  \n",
      "0   0.851591  \n",
      "1   0.843958  \n",
      "2   0.837002  \n",
      "3   0.851397  \n",
      "4   0.817567  \n",
      "5   0.895849  \n",
      "6   0.892086  \n",
      "7   0.888375  \n",
      "8   0.893423  \n",
      "9   0.851356  \n",
      "10  0.836505  \n",
      "11  0.839992  \n",
      "12  0.842327  \n",
      "13  0.827778  \n",
      "14  0.836101  \n",
      "15  0.841076  \n",
      "16  0.842589  \n",
      "17  0.841122  \n",
      "18  0.834082  \n",
      "19  0.838065  \n",
      "20  0.887699  \n",
      "21  0.885366  \n",
      "22  0.863251  \n",
      "23  0.876947  \n",
      "24  0.856149  \n",
      "25  0.916960  \n",
      "26  0.904783  \n",
      "27  0.903458  \n",
      "28  0.903445  \n",
      "29  0.864518  \n"
     ]
    }
   ],
   "source": [
    "#lstm\n",
    "import os\n",
    "import numpy as np\n",
    "import pandas as pd\n",
    "from sklearn.model_selection import KFold\n",
    "from sklearn.metrics import accuracy_score, precision_score, recall_score, f1_score, roc_auc_score\n",
    "from tensorflow.keras.models import Sequential\n",
    "from tensorflow.keras.layers import LSTM, Dense, Dropout\n",
    "from tensorflow.keras.optimizers import Adam\n",
    "\n",
    "# File paths\n",
    "paths = {\n",
    "    \"Text\": {\n",
    "        \"no\": r\"C:/Users/Administrator/PycharmProjects/Comprehensive/04sec_edaic/04sec_no_upsampling/Data_edaic/bert_embeddings_04sec_no_upsampled.npy\",\n",
    "        \"up\": r\"C:/Users/Administrator/PycharmProjects/Comprehensive/04sec_edaic/Data_edaic/bert_embeddings_04sec.npy\"\n",
    "    },\n",
    "    \"Audio\": {\n",
    "        \"no\": r\"C:/Users/Administrator/PycharmProjects/Comprehensive/04sec_edaic/04sec_no_upsampling/Data_edaic/acoustic_scaled_56_04sec.npy\",\n",
    "        \"up\": r\"C:/Users/Administrator/PycharmProjects/Comprehensive/04sec_edaic/Data_edaic/acoustic_scaled_56_04sec.npy\"\n",
    "    },\n",
    "    \"Text+Audio\": {\n",
    "        \"no\": r\"C:/Users/Administrator/PycharmProjects/Comprehensive/04sec_edaic/04sec_no_upsampling/Data_edaic/combined_embeddings_04sec_no_upsampled.npy\",\n",
    "        \"up\": r\"C:/Users/Administrator/PycharmProjects/Comprehensive/04sec_edaic/Data_edaic/combined_embeddings_04sec.npy\"\n",
    "    }\n",
    "}\n",
    "\n",
    "label_paths = {\n",
    "    \"no\": r\"C:/Users/Administrator/PycharmProjects/Comprehensive/04sec_edaic/04sec_no_upsampling/Data_edaic/labels_04sec_no_upsampled.npy\",\n",
    "    \"up\": r\"C:/Users/Administrator/PycharmProjects/Comprehensive/04sec_edaic/Data_edaic/labels_04sec.npy\"\n",
    "}\n",
    "\n",
    "def build_lstm_model(input_shape):\n",
    "    return Sequential([\n",
    "        LSTM(32, return_sequences=False, input_shape=input_shape),\n",
    "        Dropout(0.3),\n",
    "        Dense(32, activation='relu'),\n",
    "        Dense(1, activation='sigmoid')\n",
    "    ])\n",
    "\n",
    "def run_kfold(X, y, modality, upsampled_flag):\n",
    "    X = np.expand_dims(X, axis=1)  # (samples, time_steps=1, features)\n",
    "    kf = KFold(n_splits=5, shuffle=True, random_state=42)\n",
    "    results = []\n",
    "\n",
    "    for fold, (train_idx, test_idx) in enumerate(kf.split(X)):\n",
    "        model = build_lstm_model(X.shape[1:])\n",
    "        model.compile(optimizer=Adam(0.001), loss='binary_crossentropy')\n",
    "        model.fit(X[train_idx], y[train_idx], epochs=30, batch_size=32, verbose=0)\n",
    "        y_pred = (model.predict(X[test_idx]) > 0.5).astype(int)\n",
    "\n",
    "        results.append({\n",
    "            \"Model\": \"LSTM\",\n",
    "            \"Modality\": modality,\n",
    "            \"Upsampled\": upsampled_flag,\n",
    "            \"Fold\": fold + 1,\n",
    "            \"Accuracy\": accuracy_score(y[test_idx], y_pred),\n",
    "            \"Precision\": precision_score(y[test_idx], y_pred, zero_division=0),\n",
    "            \"Recall\": recall_score(y[test_idx], y_pred, zero_division=0),\n",
    "            \"F1 Score\": f1_score(y[test_idx], y_pred, zero_division=0),\n",
    "            \"AUC\": roc_auc_score(y[test_idx], y_pred)\n",
    "        })\n",
    "\n",
    "    return results\n",
    "\n",
    "all_results = []\n",
    "for modality, mod_paths in paths.items():\n",
    "    for condition, path in mod_paths.items():\n",
    "        X = np.load(path)\n",
    "        y = np.load(label_paths[condition])\n",
    "        all_results += run_kfold(X, y, modality, \"Yes\" if condition == \"up\" else \"No\")\n",
    "\n",
    "df = pd.DataFrame(all_results)\n",
    "df.to_csv(\"Results_04sec_ablation_lstm/5fold_lstm_upsample_folds.csv\", index=False)\n",
    "print(df)\n"
   ]
  },
  {
   "cell_type": "code",
   "execution_count": 86,
   "id": "4a40267c-93cc-442e-844f-738c13a617d5",
   "metadata": {},
   "outputs": [
    {
     "name": "stdout",
     "output_type": "stream",
     "text": [
      "    Model    Modality Upsampled  Accuracy_mean  Accuracy_std  Precision_mean  \\\n",
      "0   1DCNN       Audio        No       0.895891      0.005361        0.807935   \n",
      "1   1DCNN       Audio       Yes       0.893947      0.007729        0.806675   \n",
      "2   1DCNN        Text        No       0.898257      0.027394        0.809490   \n",
      "3   1DCNN        Text       Yes       0.929324      0.037109        0.889583   \n",
      "4   1DCNN  Text+Audio        No       0.919857      0.020604        0.843739   \n",
      "5   1DCNN  Text+Audio       Yes       0.940188      0.021962        0.907100   \n",
      "6     DNN       Audio        No       0.910643      0.005910        0.844166   \n",
      "7     DNN       Audio       Yes       0.912292      0.002499        0.850246   \n",
      "8     DNN        Text        No       0.906880      0.023565        0.834389   \n",
      "9     DNN        Text       Yes       0.927422      0.043245        0.886670   \n",
      "10    DNN  Text+Audio        No       0.923957      0.020842        0.853195   \n",
      "11    DNN  Text+Audio       Yes       0.940146      0.023625        0.904538   \n",
      "12   LSTM       Audio        No       0.904472      0.002693        0.833293   \n",
      "13   LSTM       Audio       Yes       0.907769      0.004012        0.845605   \n",
      "14   LSTM        Text        No       0.903076      0.027736        0.829382   \n",
      "15   LSTM        Text       Yes       0.931564      0.035028        0.902722   \n",
      "16   LSTM  Text+Audio        No       0.924887      0.017877        0.871846   \n",
      "17   LSTM  Text+Audio       Yes       0.939976      0.029839        0.910417   \n",
      "\n",
      "    Precision_std  Recall_mean  Recall_std   F1_mean    F1_std  AUC_mean  \\\n",
      "0        0.021451     0.699413    0.024988  0.749230  0.007355  0.825779   \n",
      "1        0.029407     0.691611    0.042868  0.743399  0.016393  0.821905   \n",
      "2        0.082969     0.725058    0.014586  0.762932  0.038430  0.836250   \n",
      "3        0.124728     0.805589    0.022329  0.840873  0.057382  0.884886   \n",
      "4        0.064149     0.793855    0.029381  0.816626  0.032425  0.874723   \n",
      "5        0.076357     0.822961    0.018444  0.861592  0.038139  0.898204   \n",
      "6        0.017733     0.735087    0.025890  0.785395  0.009062  0.848018   \n",
      "7        0.012612     0.735360    0.015640  0.788456  0.005860  0.849108   \n",
      "8        0.079656     0.738230    0.013361  0.781408  0.032830  0.846558   \n",
      "9        0.137557     0.805322    0.023687  0.838562  0.066702  0.883532   \n",
      "10       0.069704     0.804839    0.015967  0.826799  0.031170  0.881375   \n",
      "11       0.081193     0.826122    0.014277  0.862183  0.041720  0.899325   \n",
      "12       0.023847     0.714047    0.016975  0.768680  0.005298  0.836541   \n",
      "13       0.012995     0.716177    0.005749  0.775482  0.006423  0.839387   \n",
      "14       0.091057     0.727785    0.017321  0.772593  0.038337  0.840303   \n",
      "15       0.121953     0.799546    0.011919  0.843919  0.055081  0.884218   \n",
      "16       0.059914     0.782323    0.019404  0.823718  0.029798  0.873883   \n",
      "17       0.101379     0.824605    0.011655  0.863081  0.050757  0.898633   \n",
      "\n",
      "     AUC_std  \n",
      "0   0.009462  \n",
      "1   0.017508  \n",
      "2   0.016082  \n",
      "3   0.020831  \n",
      "4   0.017194  \n",
      "5   0.016030  \n",
      "6   0.010745  \n",
      "7   0.005805  \n",
      "8   0.012166  \n",
      "9   0.025527  \n",
      "10  0.012209  \n",
      "11  0.017310  \n",
      "12  0.005531  \n",
      "13  0.003391  \n",
      "14  0.014068  \n",
      "15  0.018568  \n",
      "16  0.013781  \n",
      "17  0.019899  \n"
     ]
    }
   ],
   "source": [
    "import pandas as pd\n",
    "\n",
    "# Load the per-fold result CSVs\n",
    "dnn_df = pd.read_csv(\"Results_04sec_ablation_dense/5fold_dense_upsample_folds.csv\")\n",
    "cnn_df = pd.read_csv(\"Results_04sec_ablation_1dcnn/5fold_1dcnn_upsample_folds.csv\")\n",
    "lstm_df = pd.read_csv(\"Results_04sec_ablation_lstm/5fold_lstm_upsample_folds.csv\")\n",
    "\n",
    "# Combine all results\n",
    "combined_df = pd.concat([dnn_df, cnn_df, lstm_df], ignore_index=True)\n",
    "\n",
    "# Group by model, modality, upsampling and calculate mean and std for each metric\n",
    "summary_df = combined_df.groupby([\"Model\", \"Modality\", \"Upsampled\"]).agg(\n",
    "    Accuracy_mean=(\"Accuracy\", \"mean\"),\n",
    "    Accuracy_std=(\"Accuracy\", \"std\"),\n",
    "    Precision_mean=(\"Precision\", \"mean\"),\n",
    "    Precision_std=(\"Precision\", \"std\"),\n",
    "    Recall_mean=(\"Recall\", \"mean\"),\n",
    "    Recall_std=(\"Recall\", \"std\"),\n",
    "    F1_mean=(\"F1 Score\", \"mean\"),\n",
    "    F1_std=(\"F1 Score\", \"std\"),\n",
    "    AUC_mean=(\"AUC\", \"mean\"),\n",
    "    AUC_std=(\"AUC\", \"std\")\n",
    ").reset_index()\n",
    "\n",
    "# Display or save\n",
    "print(summary_df)\n",
    "summary_df.to_csv(\"summary_metrics_per_model.csv\", index=False)\n"
   ]
  },
  {
   "cell_type": "code",
   "execution_count": 88,
   "id": "845bcfe6-6451-48ed-98d5-f5455545234d",
   "metadata": {},
   "outputs": [
    {
     "name": "stdout",
     "output_type": "stream",
     "text": [
      "   Model    Modality  Accuracy_Improvement  Precision_Improvement  \\\n",
      "0  1DCNN       Audio             -0.001944              -0.001260   \n",
      "1  1DCNN        Text              0.031067               0.080093   \n",
      "2  1DCNN  Text+Audio              0.020331               0.063361   \n",
      "3    DNN       Audio              0.001649               0.006080   \n",
      "4    DNN        Text              0.020541               0.052281   \n",
      "5    DNN  Text+Audio              0.016189               0.051343   \n",
      "6   LSTM       Audio              0.003297               0.012312   \n",
      "7   LSTM        Text              0.028489               0.073339   \n",
      "8   LSTM  Text+Audio              0.015089               0.038571   \n",
      "\n",
      "   Recall_Improvement  F1_Improvement  AUC_Improvement  \n",
      "0           -0.007802       -0.005831        -0.003874  \n",
      "1            0.080531        0.077941         0.048636  \n",
      "2            0.029106        0.044966         0.023481  \n",
      "3            0.000273        0.003061         0.001091  \n",
      "4            0.067092        0.057154         0.036974  \n",
      "5            0.021284        0.035384         0.017950  \n",
      "6            0.002130        0.006802         0.002846  \n",
      "7            0.071760        0.071326         0.043915  \n",
      "8            0.042282        0.039363         0.024750  \n"
     ]
    }
   ],
   "source": [
    "import pandas as pd\n",
    "\n",
    "# Load averaged metrics with std (output from previous step)\n",
    "df = pd.read_csv(\"summary_metrics_per_model.csv\")\n",
    "\n",
    "# Split into No and Yes groups\n",
    "no_df = df[df[\"Upsampled\"] == \"No\"].set_index([\"Model\", \"Modality\"])\n",
    "yes_df = df[df[\"Upsampled\"] == \"Yes\"].set_index([\"Model\", \"Modality\"])\n",
    "\n",
    "# Calculate improvement (Yes - No)\n",
    "improvement_df = yes_df[[\n",
    "    \"Accuracy_mean\", \"Precision_mean\", \"Recall_mean\", \"F1_mean\", \"AUC_mean\"\n",
    "]] - no_df[[\n",
    "    \"Accuracy_mean\", \"Precision_mean\", \"Recall_mean\", \"F1_mean\", \"AUC_mean\"\n",
    "]]\n",
    "\n",
    "# Rename columns for clarity\n",
    "improvement_df = improvement_df.rename(columns={\n",
    "    \"Accuracy_mean\": \"Accuracy_Improvement\",\n",
    "    \"Precision_mean\": \"Precision_Improvement\",\n",
    "    \"Recall_mean\": \"Recall_Improvement\",\n",
    "    \"F1_mean\": \"F1_Improvement\",\n",
    "    \"AUC_mean\": \"AUC_Improvement\"\n",
    "}).reset_index()\n",
    "\n",
    "# Display or save\n",
    "print(improvement_df)\n",
    "improvement_df.to_csv(\"oversampling_improvement_summary.csv\", index=False)\n",
    "\n"
   ]
  },
  {
   "cell_type": "code",
   "execution_count": 96,
   "id": "3829179b-1e54-41c7-8a31-ec2957a53b79",
   "metadata": {},
   "outputs": [
    {
     "data": {
      "image/png": "[encoded data removed]",
      "text/plain": [
       "<Figure size 1200x600 with 2 Axes>"
      ]
     },
     "metadata": {},
     "output_type": "display_data"
    }
   ],
   "source": [
    "import pandas as pd\n",
    "import seaborn as sns\n",
    "import matplotlib.pyplot as plt\n",
    "from scipy.stats import ttest_rel\n",
    "\n",
    "# === Load per-fold result CSVs ===\n",
    "dnn_df = pd.read_csv(\"Results_04sec_ablation_dense/5fold_dense_upsample_folds.csv\")\n",
    "cnn_df = pd.read_csv(\"Results_04sec_ablation_1dcnn/5fold_1dcnn_upsample_folds.csv\")\n",
    "lstm_df = pd.read_csv(\"Results_04sec_ablation_lstm/5fold_lstm_upsample_folds.csv\")\n",
    "\n",
    "# === Function to compute mean improvement (%) and p-value ===\n",
    "def calculate_improvement_and_pvalue(df, model_name):\n",
    "    metrics = [\"Accuracy\", \"Precision\", \"Recall\", \"F1 Score\", \"AUC\"]\n",
    "    results = []\n",
    "\n",
    "    for modality in df[\"Modality\"].unique():\n",
    "        if modality == \"Audio\":\n",
    "            continue  # Exclude audio-only modality\n",
    "\n",
    "        df_mod = df[df[\"Modality\"] == modality]\n",
    "        df_no = df_mod[df_mod[\"Upsampled\"] == \"No\"].sort_values(\"Fold\")\n",
    "        df_yes = df_mod[df_mod[\"Upsampled\"] == \"Yes\"].sort_values(\"Fold\")\n",
    "\n",
    "        for metric in metrics:\n",
    "            before = df_no[metric].values\n",
    "            after = df_yes[metric].values\n",
    "\n",
    "            improvement = (after.mean() - before.mean()) * 100\n",
    "            p_val = ttest_rel(after, before).pvalue\n",
    "\n",
    "            results.append({\n",
    "                \"Model\": model_name,\n",
    "                \"Modality\": modality,\n",
    "                \"Metric\": metric,\n",
    "                \"Improvement (%)\": improvement,\n",
    "                \"p-value\": p_val\n",
    "            })\n",
    "\n",
    "    return pd.DataFrame(results)\n",
    "\n",
    "# === Compute improvements and p-values for all models ===\n",
    "df_combined = pd.concat([\n",
    "    calculate_improvement_and_pvalue(cnn_df, \"1DCNN\"),\n",
    "    calculate_improvement_and_pvalue(dnn_df, \"Dense\"),\n",
    "    calculate_improvement_and_pvalue(lstm_df, \"LSTM\")\n",
    "], ignore_index=True)\n",
    "\n",
    "# === Pivot and reorder rows ===\n",
    "heatmap_df = df_combined.pivot(index=[\"Model\", \"Modality\"], columns=\"Metric\", values=\"p-value\")\n",
    "desired_order = [\n",
    "    (\"Dense\", \"Text\"),\n",
    "    (\"1DCNN\", \"Text\"),\n",
    "    (\"LSTM\", \"Text\"),\n",
    "    (\"Dense\", \"Text+Audio\"),\n",
    "    (\"1DCNN\", \"Text+Audio\"),\n",
    "    (\"LSTM\", \"Text+Audio\")\n",
    "]\n",
    "heatmap_df = heatmap_df.reindex(desired_order)\n",
    "\n",
    "# === Plot heatmap ===\n",
    "plt.figure(figsize=(12, 6))\n",
    "sns.heatmap(heatmap_df, annot=True, fmt=\".4f\", cmap=\"coolwarm\", cbar_kws={\"label\": \"p-value\"})\n",
    "plt.title(\"P-value Heatmap of Upsampling Improvements\", fontsize=16)\n",
    "plt.ylabel(\"Model and Modality\", fontsize=14)\n",
    "plt.xlabel(\"Metric\", fontsize=14)\n",
    "plt.xticks(fontsize=12)\n",
    "plt.yticks(fontsize=12, rotation=0)\n",
    "plt.tight_layout()\n",
    "plt.show()\n"
   ]
  },
  {
   "cell_type": "code",
   "execution_count": null,
   "id": "9ddc6a90-2d07-4332-97ca-57b24c6502b6",
   "metadata": {},
   "outputs": [],
   "source": []
  }
 ],
 "metadata": {
  "kernelspec": {
   "display_name": "Python [conda env:.conda-p311]",
   "language": "python",
   "name": "conda-env-.conda-p311-py"
  },
  "language_info": {
   "codemirror_mode": {
    "name": "ipython",
    "version": 3
   },
   "file_extension": ".py",
   "mimetype": "text/x-python",
   "name": "python",
   "nbconvert_exporter": "python",
   "pygments_lexer": "ipython3",
   "version": "3.11.9"
  }
 },
 "nbformat": 4,
 "nbformat_minor": 5
}
